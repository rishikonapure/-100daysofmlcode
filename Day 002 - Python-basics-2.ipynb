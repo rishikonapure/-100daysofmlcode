{
 "cells": [
  {
   "cell_type": "markdown",
   "metadata": {
    "papermill": {
     "duration": 0.009677,
     "end_time": "2020-08-15T03:48:14.540387",
     "exception": false,
     "start_time": "2020-08-15T03:48:14.530710",
     "status": "completed"
    },
    "tags": []
   },
   "source": [
    "# Day 2 of 100 Days of Machine Learning Code\n",
    "\n",
    "# Python Basics 2 — Working with List, Tuples, Dictionaries"
   ]
  },
  {
   "cell_type": "markdown",
   "metadata": {
    "papermill": {
     "duration": 0.00751,
     "end_time": "2020-08-15T03:48:14.558282",
     "exception": false,
     "start_time": "2020-08-15T03:48:14.550772",
     "status": "completed"
    },
    "tags": []
   },
   "source": [
    "## Content\n",
    "- Working with Lists\n",
    "- List comprehension\n",
    "- Advance list operations: Slicing list, Looping through Sliced list, Copying a List\n",
    "- Tuples\n",
    "- Basic tuple operations: Modify tuple, Looping trough all tuple values\n",
    "- Dictionaries\n",
    "- Basic Dictionary operations: Modifying dictionary, removing key- value from a dictionary\n",
    "- Looping through dictionary\n",
    "- Nested Dictionary\n"
   ]
  },
  {
   "cell_type": "markdown",
   "metadata": {
    "papermill": {
     "duration": 0.007595,
     "end_time": "2020-08-15T03:48:14.574014",
     "exception": false,
     "start_time": "2020-08-15T03:48:14.566419",
     "status": "completed"
    },
    "tags": []
   },
   "source": [
    "## Working with Lists\n",
    "### Making Number list\n",
    "In python, we can create a series of numbers using `range()` function. Let’s have a look at how to create a list using `range()` function."
   ]
  },
  {
   "cell_type": "code",
   "execution_count": 1,
   "metadata": {
    "ExecuteTime": {
     "end_time": "2020-08-16T07:00:53.535118Z",
     "start_time": "2020-08-16T07:00:53.523318Z"
    },
    "_cell_guid": "79c7e3d0-c299-4dcb-8224-4455121ee9b0",
    "_uuid": "d629ff2d2480ee46fbb7e2d37f6b5fab8052498a",
    "execution": {
     "iopub.execute_input": "2020-08-15T03:48:14.595852Z",
     "iopub.status.busy": "2020-08-15T03:48:14.594937Z",
     "iopub.status.idle": "2020-08-15T03:48:14.599129Z",
     "shell.execute_reply": "2020-08-15T03:48:14.598571Z"
    },
    "papermill": {
     "duration": 0.017487,
     "end_time": "2020-08-15T03:48:14.599247",
     "exception": false,
     "start_time": "2020-08-15T03:48:14.581760",
     "status": "completed"
    },
    "tags": []
   },
   "outputs": [
    {
     "name": "stdout",
     "output_type": "stream",
     "text": [
      "[1, 2, 3, 4, 5, 6, 7, 8, 9, 10]\n"
     ]
    }
   ],
   "source": [
    "# syntex of range() --> range(start_number, end_number)\n",
    "# here we are creating list from 1 to 10. \n",
    "# PS: last element wount count in list so if i want list till n number then, you have to write n+1 in range function.\n",
    "\n",
    "num = list(range(1, 11))\n",
    "print(num)\n",
    "\n",
    "# output\n",
    "# [1, 2, 3, 4, 5, 6, 7, 8, 9, 10]"
   ]
  },
  {
   "cell_type": "markdown",
   "metadata": {
    "papermill": {
     "duration": 0.007501,
     "end_time": "2020-08-15T03:48:14.614789",
     "exception": false,
     "start_time": "2020-08-15T03:48:14.607288",
     "status": "completed"
    },
    "tags": []
   },
   "source": [
    "### Looping through lists\n",
    "In data analysis, you often need to run through each item in a list. Let’s have a look."
   ]
  },
  {
   "cell_type": "code",
   "execution_count": 2,
   "metadata": {
    "ExecuteTime": {
     "end_time": "2020-08-16T07:00:53.560667Z",
     "start_time": "2020-08-16T07:00:53.553528Z"
    },
    "execution": {
     "iopub.execute_input": "2020-08-15T03:48:14.636037Z",
     "iopub.status.busy": "2020-08-15T03:48:14.635346Z",
     "iopub.status.idle": "2020-08-15T03:48:14.638852Z",
     "shell.execute_reply": "2020-08-15T03:48:14.639298Z"
    },
    "papermill": {
     "duration": 0.016999,
     "end_time": "2020-08-15T03:48:14.639486",
     "exception": false,
     "start_time": "2020-08-15T03:48:14.622487",
     "status": "completed"
    },
    "tags": []
   },
   "outputs": [
    {
     "name": "stdout",
     "output_type": "stream",
     "text": [
      "I know how to code in Python programming language.\n",
      "I know how to code in Java programming language.\n",
      "I know how to code in C programming language.\n"
     ]
    }
   ],
   "source": [
    "\n",
    "programming_languages = ['python', 'java', 'c']\n",
    "\n",
    "for programming_language in programming_languages: \n",
    "\tprint(\"I know how to code in \" + programming_language.title() + \" programming language.\")\n",
    "  \n",
    "# output\n",
    "# I know how to code in Python programming language.\n",
    "# I know how to code in Java programming language.\n",
    "# I know how to code in C programming language."
   ]
  },
  {
   "cell_type": "markdown",
   "metadata": {
    "papermill": {
     "duration": 0.007418,
     "end_time": "2020-08-15T03:48:14.655032",
     "exception": false,
     "start_time": "2020-08-15T03:48:14.647614",
     "status": "completed"
    },
    "tags": []
   },
   "source": [
    "### Range() function with for loop\n",
    "We can use `range()` function with for loop as well — sometimes it’s required to loop through series of numbers. Let’s have a look at code."
   ]
  },
  {
   "cell_type": "code",
   "execution_count": 3,
   "metadata": {
    "ExecuteTime": {
     "end_time": "2020-08-16T07:00:53.840146Z",
     "start_time": "2020-08-16T07:00:53.813898Z"
    },
    "execution": {
     "iopub.execute_input": "2020-08-15T03:48:14.676785Z",
     "iopub.status.busy": "2020-08-15T03:48:14.675841Z",
     "iopub.status.idle": "2020-08-15T03:48:14.679727Z",
     "shell.execute_reply": "2020-08-15T03:48:14.679189Z"
    },
    "papermill": {
     "duration": 0.016992,
     "end_time": "2020-08-15T03:48:14.679850",
     "exception": false,
     "start_time": "2020-08-15T03:48:14.662858",
     "status": "completed"
    },
    "tags": []
   },
   "outputs": [
    {
     "name": "stdout",
     "output_type": "stream",
     "text": [
      "1\n",
      "2\n",
      "3\n",
      "4\n",
      "5\n",
      "6\n",
      "7\n",
      "8\n",
      "9\n",
      "10\n"
     ]
    }
   ],
   "source": [
    "for i in range(1,11):\n",
    "\tprint(i)\n",
    "\n",
    "# output\n",
    "# 1\n",
    "# 2\n",
    "# 3\n",
    "# 4\n",
    "# 5\n",
    "# 6\n",
    "# 7\n",
    "# 8\n",
    "# 9\n",
    "# 10"
   ]
  },
  {
   "cell_type": "markdown",
   "metadata": {
    "papermill": {
     "duration": 0.00771,
     "end_time": "2020-08-15T03:48:14.695579",
     "exception": false,
     "start_time": "2020-08-15T03:48:14.687869",
     "status": "completed"
    },
    "tags": []
   },
   "source": [
    "### Basic statistics with List\n",
    "You can perform simple statistics with lists such as min(), max(), and sum().\n"
   ]
  },
  {
   "cell_type": "code",
   "execution_count": 4,
   "metadata": {
    "ExecuteTime": {
     "end_time": "2020-08-16T07:00:53.876879Z",
     "start_time": "2020-08-16T07:00:53.866287Z"
    },
    "execution": {
     "iopub.execute_input": "2020-08-15T03:48:14.717574Z",
     "iopub.status.busy": "2020-08-15T03:48:14.716934Z",
     "iopub.status.idle": "2020-08-15T03:48:14.720124Z",
     "shell.execute_reply": "2020-08-15T03:48:14.720720Z"
    },
    "papermill": {
     "duration": 0.01762,
     "end_time": "2020-08-15T03:48:14.720865",
     "exception": false,
     "start_time": "2020-08-15T03:48:14.703245",
     "status": "completed"
    },
    "tags": []
   },
   "outputs": [
    {
     "name": "stdout",
     "output_type": "stream",
     "text": [
      "[1, 2, 3, 4, 5, 6, 7, 8, 9, 10]\n",
      "1\n",
      "10\n",
      "55\n"
     ]
    }
   ],
   "source": [
    "num = list(range(1,11))\n",
    "\n",
    "print(num)\n",
    "# output\n",
    "# [1, 2, 3, 4, 5, 6, 7, 8, 9, 10]\n",
    "\n",
    "print(min(num))\n",
    "# output\n",
    "# 1\n",
    "\n",
    "print(max(num))\n",
    "# output\n",
    "# 10\n",
    "\n",
    "print(sum(num))\n",
    "# output\n",
    "# 55"
   ]
  },
  {
   "cell_type": "markdown",
   "metadata": {
    "papermill": {
     "duration": 0.007594,
     "end_time": "2020-08-15T03:48:14.736620",
     "exception": false,
     "start_time": "2020-08-15T03:48:14.729026",
     "status": "completed"
    },
    "tags": []
   },
   "source": [
    "## List comprehension\n",
    "List comprehension is an advanced approach to generating lists. List comprehension allows you to combine for loop to create a list. Assume that you’ve to create a list that contains a cube of 1 to 10. First, let’s see how to do that without list comprehension."
   ]
  },
  {
   "cell_type": "code",
   "execution_count": 5,
   "metadata": {
    "ExecuteTime": {
     "end_time": "2020-08-16T07:00:54.009878Z",
     "start_time": "2020-08-16T07:00:53.999804Z"
    },
    "execution": {
     "iopub.execute_input": "2020-08-15T03:48:14.758876Z",
     "iopub.status.busy": "2020-08-15T03:48:14.758155Z",
     "iopub.status.idle": "2020-08-15T03:48:14.761554Z",
     "shell.execute_reply": "2020-08-15T03:48:14.760932Z"
    },
    "papermill": {
     "duration": 0.017131,
     "end_time": "2020-08-15T03:48:14.761669",
     "exception": false,
     "start_time": "2020-08-15T03:48:14.744538",
     "status": "completed"
    },
    "tags": []
   },
   "outputs": [
    {
     "name": "stdout",
     "output_type": "stream",
     "text": [
      "[1, 8, 27, 64, 125, 216, 343, 512, 729, 1000]\n"
     ]
    }
   ],
   "source": [
    "# without list comprehension\n",
    "cubes = []\n",
    "\n",
    "for i in range(1,11):\n",
    "\tcube = i ** 3\n",
    "\tcubes.append(cube)\n",
    "\n",
    "print(cubes)\n",
    "\n",
    "# output\n",
    "# [1, 8, 27, 64, 125, 216, 343, 512, 729, 1000]"
   ]
  },
  {
   "cell_type": "markdown",
   "metadata": {
    "papermill": {
     "duration": 0.008072,
     "end_time": "2020-08-15T03:48:14.778168",
     "exception": false,
     "start_time": "2020-08-15T03:48:14.770096",
     "status": "completed"
    },
    "tags": []
   },
   "source": [
    "Now let’s make the same list using list comprehension."
   ]
  },
  {
   "cell_type": "code",
   "execution_count": 6,
   "metadata": {
    "ExecuteTime": {
     "end_time": "2020-08-16T07:00:54.145681Z",
     "start_time": "2020-08-16T07:00:54.132748Z"
    },
    "execution": {
     "iopub.execute_input": "2020-08-15T03:48:14.800179Z",
     "iopub.status.busy": "2020-08-15T03:48:14.799433Z",
     "iopub.status.idle": "2020-08-15T03:48:14.802890Z",
     "shell.execute_reply": "2020-08-15T03:48:14.802260Z"
    },
    "papermill": {
     "duration": 0.0165,
     "end_time": "2020-08-15T03:48:14.803004",
     "exception": false,
     "start_time": "2020-08-15T03:48:14.786504",
     "status": "completed"
    },
    "tags": []
   },
   "outputs": [
    {
     "name": "stdout",
     "output_type": "stream",
     "text": [
      "[1, 8, 27, 64, 125, 216, 343, 512, 729, 1000]\n"
     ]
    }
   ],
   "source": [
    "\n",
    "# with list comprehension\n",
    "\n",
    "cubes = [cube ** 3 for cube in range(1,11)]\n",
    "print(cubes)\n",
    "\n",
    "# output\n",
    "# [1, 8, 27, 64, 125, 216, 343, 512, 729, 1000]"
   ]
  },
  {
   "cell_type": "markdown",
   "metadata": {
    "papermill": {
     "duration": 0.008253,
     "end_time": "2020-08-15T03:48:14.819738",
     "exception": false,
     "start_time": "2020-08-15T03:48:14.811485",
     "status": "completed"
    },
    "tags": []
   },
   "source": [
    "## Advance List Operations\n",
    "### Slicing List\n",
    "To slice a list, you have to pass the starting index and last element index. Like range() function, slice also stops before one element. If you want element from starting to 5th elements, you have to pass 0 (first element index) to 5 (sixth element index). Let’s have a look at how to do it in code."
   ]
  },
  {
   "cell_type": "code",
   "execution_count": 7,
   "metadata": {
    "ExecuteTime": {
     "end_time": "2020-08-16T07:00:54.248504Z",
     "start_time": "2020-08-16T07:00:54.239437Z"
    },
    "execution": {
     "iopub.execute_input": "2020-08-15T03:48:14.843718Z",
     "iopub.status.busy": "2020-08-15T03:48:14.843024Z",
     "iopub.status.idle": "2020-08-15T03:48:14.846513Z",
     "shell.execute_reply": "2020-08-15T03:48:14.845849Z"
    },
    "papermill": {
     "duration": 0.018531,
     "end_time": "2020-08-15T03:48:14.846642",
     "exception": false,
     "start_time": "2020-08-15T03:48:14.828111",
     "status": "completed"
    },
    "tags": []
   },
   "outputs": [
    {
     "name": "stdout",
     "output_type": "stream",
     "text": [
      "['English', 'Hindi', 'Chinese', 'Spanish', 'Bengali']\n",
      "['Bengali', 'Russian', 'Arabic']\n",
      "['English', 'Hindi', 'Chinese']\n",
      "['Bengali', 'Russian', 'Arabic', 'Portuguese']\n"
     ]
    }
   ],
   "source": [
    "languages = ['English', 'Hindi', 'Chinese', 'Spanish', 'Bengali', 'Russian', 'Arabic', 'Portuguese']\n",
    "\n",
    "# print list containing - english, hindi, chinese, spanish and bengali\n",
    "print(languages[0:5])\n",
    "# output\n",
    "# ['English', 'Hindi', 'Chinese', 'Spanish', 'Bengali']\n",
    "\n",
    "# print list contains bengali,russian and arabic\n",
    "print(languages[4:7])\n",
    "# output\n",
    "# ['Bengali', 'Russian', 'Arabic']\n",
    "\n",
    "# if you want to slice list from starting then no need to mention index because python automatically start from the beginning.\n",
    "print(languages[:3])\n",
    "# output\n",
    "# ['English', 'Hindi', 'Chinese']\n",
    "\n",
    "# similarly if you want to slice till the end then ignore mentioning index for last element\n",
    "print(languages[4:])\n",
    "# output\n",
    "# ['Bengali', 'Russian', 'Arabic', 'Portuguese']"
   ]
  },
  {
   "cell_type": "markdown",
   "metadata": {
    "papermill": {
     "duration": 0.008187,
     "end_time": "2020-08-15T03:48:14.863568",
     "exception": false,
     "start_time": "2020-08-15T03:48:14.855381",
     "status": "completed"
    },
    "tags": []
   },
   "source": [
    "### Looping through Sliced list\n",
    "Previously, we have seen how to loop through the list and how to slice list. Even we can loop through the slice list. Let’s see how to do that."
   ]
  },
  {
   "cell_type": "code",
   "execution_count": 8,
   "metadata": {
    "ExecuteTime": {
     "end_time": "2020-08-16T07:00:54.357845Z",
     "start_time": "2020-08-16T07:00:54.347601Z"
    },
    "execution": {
     "iopub.execute_input": "2020-08-15T03:48:14.886971Z",
     "iopub.status.busy": "2020-08-15T03:48:14.886309Z",
     "iopub.status.idle": "2020-08-15T03:48:14.890861Z",
     "shell.execute_reply": "2020-08-15T03:48:14.890055Z"
    },
    "papermill": {
     "duration": 0.019057,
     "end_time": "2020-08-15T03:48:14.891022",
     "exception": false,
     "start_time": "2020-08-15T03:48:14.871965",
     "status": "completed"
    },
    "tags": []
   },
   "outputs": [
    {
     "name": "stdout",
     "output_type": "stream",
     "text": [
      "English\n",
      "Hindi\n",
      "Chinese\n",
      "Spanish\n",
      "Bengali\n"
     ]
    }
   ],
   "source": [
    "languages = ['English', 'Hindi', 'Chinese', 'Spanish', 'Bengali', 'Russian', 'Arabic', 'Portuguese']\n",
    "\n",
    "for language in languages[:5]:\n",
    "  print(language)\n",
    "\n",
    "# output\n",
    "# English\n",
    "# Hindi\n",
    "# Chinese\n",
    "# Spanish\n",
    "# Bengali"
   ]
  },
  {
   "cell_type": "markdown",
   "metadata": {
    "papermill": {
     "duration": 0.008241,
     "end_time": "2020-08-15T03:48:14.908823",
     "exception": false,
     "start_time": "2020-08-15T03:48:14.900582",
     "status": "completed"
    },
    "tags": []
   },
   "source": [
    "### Copying a List\n",
    "While doing data analysis, it might require to work on the existing list and copy of the existing list. Let’s see how we can copy the list."
   ]
  },
  {
   "cell_type": "code",
   "execution_count": 9,
   "metadata": {
    "ExecuteTime": {
     "end_time": "2020-08-16T07:00:54.503207Z",
     "start_time": "2020-08-16T07:00:54.496343Z"
    },
    "execution": {
     "iopub.execute_input": "2020-08-15T03:48:14.931979Z",
     "iopub.status.busy": "2020-08-15T03:48:14.931124Z",
     "iopub.status.idle": "2020-08-15T03:48:14.934125Z",
     "shell.execute_reply": "2020-08-15T03:48:14.934635Z"
    },
    "papermill": {
     "duration": 0.017432,
     "end_time": "2020-08-15T03:48:14.934782",
     "exception": false,
     "start_time": "2020-08-15T03:48:14.917350",
     "status": "completed"
    },
    "tags": []
   },
   "outputs": [
    {
     "name": "stdout",
     "output_type": "stream",
     "text": [
      "['English', 'Hindi', 'Chinese', 'Spanish', 'Bengali', 'Russian', 'Arabic', 'Portuguese']\n",
      "['English', 'Hindi', 'Chinese', 'Spanish', 'Bengali', 'Russian', 'Arabic', 'Portuguese']\n"
     ]
    }
   ],
   "source": [
    "languages = ['English', 'Hindi', 'Chinese', 'Spanish', 'Bengali', 'Russian', 'Arabic', 'Portuguese']\n",
    "\n",
    "copy_languages = languages[:]\n",
    "\n",
    "print(languages)\n",
    "# output\n",
    "# ['English', 'Hindi', 'Chinese', 'Spanish', 'Bengali', 'Russian', 'Arabic', 'Portuguese']\n",
    "\n",
    "print(copy_languages)\n",
    "# output\n",
    "# ['English', 'Hindi', 'Chinese', 'Spanish', 'Bengali', 'Russian', 'Arabic', 'Portuguese']\n"
   ]
  },
  {
   "cell_type": "markdown",
   "metadata": {
    "papermill": {
     "duration": 0.00842,
     "end_time": "2020-08-15T03:48:14.951880",
     "exception": false,
     "start_time": "2020-08-15T03:48:14.943460",
     "status": "completed"
    },
    "tags": []
   },
   "source": [
    "Now we have two lists, and we can modify them according to our needs. Let’s apply basic operations that we have learned in the previous blog.\n"
   ]
  },
  {
   "cell_type": "code",
   "execution_count": 10,
   "metadata": {
    "ExecuteTime": {
     "end_time": "2020-08-16T07:00:54.621321Z",
     "start_time": "2020-08-16T07:00:54.613225Z"
    },
    "execution": {
     "iopub.execute_input": "2020-08-15T03:48:14.975968Z",
     "iopub.status.busy": "2020-08-15T03:48:14.975017Z",
     "iopub.status.idle": "2020-08-15T03:48:14.978239Z",
     "shell.execute_reply": "2020-08-15T03:48:14.978748Z"
    },
    "papermill": {
     "duration": 0.018697,
     "end_time": "2020-08-15T03:48:14.978894",
     "exception": false,
     "start_time": "2020-08-15T03:48:14.960197",
     "status": "completed"
    },
    "tags": []
   },
   "outputs": [
    {
     "name": "stdout",
     "output_type": "stream",
     "text": [
      "My cars are : \n",
      "['audi', 'bmw']\n",
      "\n",
      "My neighbour's cars are : \n",
      "['audi', 'bmw', 'tesla', 'toyota']\n"
     ]
    }
   ],
   "source": [
    "\n",
    "my_car = ['audi', 'bmw', 'tesla']\n",
    "neighbour_car = my_car[:]\n",
    "\n",
    "del my_car[2]\n",
    "neighbour_car.append('toyota')\n",
    "\n",
    "print('My cars are : ')\n",
    "print(my_car)\n",
    "# output\n",
    "# My cars are :\n",
    "# ['audi', 'bmw']\n",
    "\n",
    "print('\\nMy neighbour\\'s cars are : ')\n",
    "print(neighbour_car)\n",
    "# output\n",
    "# My neighbour's cars are :\n",
    "# ['audi', 'bmw', 'tesla', 'toyota']"
   ]
  },
  {
   "cell_type": "markdown",
   "metadata": {
    "papermill": {
     "duration": 0.008324,
     "end_time": "2020-08-15T03:48:14.996224",
     "exception": false,
     "start_time": "2020-08-15T03:48:14.987900",
     "status": "completed"
    },
    "tags": []
   },
   "source": [
    "## Tuples\n",
    "Like lists, tuples are collection types in python. However, Tuples are immutable, which means the value of immutable lists cannot change. In python, tuple use parentheses “(“. Let’s have a look at how to define tuples in python."
   ]
  },
  {
   "cell_type": "code",
   "execution_count": 11,
   "metadata": {
    "ExecuteTime": {
     "end_time": "2020-08-16T07:00:54.879525Z",
     "start_time": "2020-08-16T07:00:54.768226Z"
    },
    "execution": {
     "iopub.execute_input": "2020-08-15T03:48:15.019532Z",
     "iopub.status.busy": "2020-08-15T03:48:15.018758Z",
     "iopub.status.idle": "2020-08-15T03:48:15.022313Z",
     "shell.execute_reply": "2020-08-15T03:48:15.021831Z"
    },
    "papermill": {
     "duration": 0.017592,
     "end_time": "2020-08-15T03:48:15.022443",
     "exception": false,
     "start_time": "2020-08-15T03:48:15.004851",
     "status": "completed"
    },
    "tags": []
   },
   "outputs": [
    {
     "name": "stdout",
     "output_type": "stream",
     "text": [
      "100\n",
      "20\n"
     ]
    }
   ],
   "source": [
    "dimensions = (100, 20)\n",
    "\n",
    "print(dimensions[0])\n",
    "# output\n",
    "# 100\n",
    "\n",
    "print(dimensions[1])\n",
    "# output\n",
    "# 20"
   ]
  },
  {
   "cell_type": "markdown",
   "metadata": {
    "papermill": {
     "duration": 0.010326,
     "end_time": "2020-08-15T03:48:15.041833",
     "exception": false,
     "start_time": "2020-08-15T03:48:15.031507",
     "status": "completed"
    },
    "tags": []
   },
   "source": [
    "## Basic Tuple operation\n",
    "### Modify tuple\n",
    "As we know, the tuple is an immutable list type, which means it can not be modified. However, we can overwrite tuple, which means we can completely change tuple values."
   ]
  },
  {
   "cell_type": "code",
   "execution_count": 12,
   "metadata": {
    "ExecuteTime": {
     "end_time": "2020-08-16T07:00:54.931746Z",
     "start_time": "2020-08-16T07:00:54.917316Z"
    },
    "execution": {
     "iopub.execute_input": "2020-08-15T03:48:15.066337Z",
     "iopub.status.busy": "2020-08-15T03:48:15.065373Z",
     "iopub.status.idle": "2020-08-15T03:48:15.068869Z",
     "shell.execute_reply": "2020-08-15T03:48:15.069336Z"
    },
    "papermill": {
     "duration": 0.018734,
     "end_time": "2020-08-15T03:48:15.069516",
     "exception": false,
     "start_time": "2020-08-15T03:48:15.050782",
     "status": "completed"
    },
    "tags": []
   },
   "outputs": [
    {
     "name": "stdout",
     "output_type": "stream",
     "text": [
      "(100, 20)\n",
      "(500, 100)\n"
     ]
    }
   ],
   "source": [
    "dimensions = (100, 20)\n",
    "print(dimensions)\n",
    "# output\n",
    "# (100, 20)\n",
    "\n",
    "# assign new values to tuple\n",
    "dimensions = (500, 100)\n",
    "print(dimensions)\n",
    "# output\n",
    "# (500, 100)"
   ]
  },
  {
   "cell_type": "markdown",
   "metadata": {
    "papermill": {
     "duration": 0.009025,
     "end_time": "2020-08-15T03:48:15.087353",
     "exception": false,
     "start_time": "2020-08-15T03:48:15.078328",
     "status": "completed"
    },
    "tags": []
   },
   "source": [
    "### Looping trough all tuple values\n",
    "In python, we can loop through tuples as we did with a list."
   ]
  },
  {
   "cell_type": "code",
   "execution_count": 13,
   "metadata": {
    "ExecuteTime": {
     "end_time": "2020-08-16T07:00:55.065512Z",
     "start_time": "2020-08-16T07:00:55.059898Z"
    },
    "execution": {
     "iopub.execute_input": "2020-08-15T03:48:15.111081Z",
     "iopub.status.busy": "2020-08-15T03:48:15.110214Z",
     "iopub.status.idle": "2020-08-15T03:48:15.113237Z",
     "shell.execute_reply": "2020-08-15T03:48:15.113741Z"
    },
    "papermill": {
     "duration": 0.017811,
     "end_time": "2020-08-15T03:48:15.113893",
     "exception": false,
     "start_time": "2020-08-15T03:48:15.096082",
     "status": "completed"
    },
    "tags": []
   },
   "outputs": [
    {
     "name": "stdout",
     "output_type": "stream",
     "text": [
      "100\n",
      "20\n"
     ]
    }
   ],
   "source": [
    "\n",
    "dimensions = (100, 20)\n",
    "\n",
    "for dimension in dimensions:\n",
    "  print(dimension)\n",
    "\n",
    "# output\n",
    "# 100\n",
    "# 20"
   ]
  },
  {
   "cell_type": "markdown",
   "metadata": {
    "papermill": {
     "duration": 0.008706,
     "end_time": "2020-08-15T03:48:15.131920",
     "exception": false,
     "start_time": "2020-08-15T03:48:15.123214",
     "status": "completed"
    },
    "tags": []
   },
   "source": [
    "Tuples are simple data structures compared to the list. They are mostly used when programmers want to store some value that can not be changed throughout the program."
   ]
  },
  {
   "cell_type": "markdown",
   "metadata": {
    "papermill": {
     "duration": 0.008753,
     "end_time": "2020-08-15T03:48:15.149668",
     "exception": false,
     "start_time": "2020-08-15T03:48:15.140915",
     "status": "completed"
    },
    "tags": []
   },
   "source": [
    "## Dictionaries\n",
    "In python, Dictionaries are a collection of key and value pairs. In Dictionaries, each key is associated/connected with values. To access any value, we have to use the key, which is associated with value. We can use any data object as key or value in dictionaries. Let’s create a simple dictionary."
   ]
  },
  {
   "cell_type": "code",
   "execution_count": 14,
   "metadata": {
    "ExecuteTime": {
     "end_time": "2020-08-16T07:00:55.319820Z",
     "start_time": "2020-08-16T07:00:55.311878Z"
    },
    "execution": {
     "iopub.execute_input": "2020-08-15T03:48:15.173681Z",
     "iopub.status.busy": "2020-08-15T03:48:15.173032Z",
     "iopub.status.idle": "2020-08-15T03:48:15.176297Z",
     "shell.execute_reply": "2020-08-15T03:48:15.175673Z"
    },
    "papermill": {
     "duration": 0.018082,
     "end_time": "2020-08-15T03:48:15.176430",
     "exception": false,
     "start_time": "2020-08-15T03:48:15.158348",
     "status": "completed"
    },
    "tags": []
   },
   "outputs": [
    {
     "name": "stdout",
     "output_type": "stream",
     "text": [
      "Durgesh\n",
      "28\n"
     ]
    }
   ],
   "source": [
    "my_information = { 'name': 'Durgesh', 'age': 28 }\n",
    "\n",
    "print(my_information['name'])\n",
    "# output\n",
    "# Durgesh\n",
    "\n",
    "print(my_information['age'])\n",
    "# output\n",
    "# 28"
   ]
  },
  {
   "cell_type": "markdown",
   "metadata": {
    "papermill": {
     "duration": 0.008715,
     "end_time": "2020-08-15T03:48:15.194353",
     "exception": false,
     "start_time": "2020-08-15T03:48:15.185638",
     "status": "completed"
    },
    "tags": []
   },
   "source": [
    "## Basic Dictionary operations\n",
    "### Modifying Dictionary\n",
    "Like list data collection methods, we can modify dictionaries as well. Let’s have a look at code."
   ]
  },
  {
   "cell_type": "code",
   "execution_count": 15,
   "metadata": {
    "ExecuteTime": {
     "end_time": "2020-08-16T07:00:55.497370Z",
     "start_time": "2020-08-16T07:00:55.434416Z"
    },
    "execution": {
     "iopub.execute_input": "2020-08-15T03:48:15.219457Z",
     "iopub.status.busy": "2020-08-15T03:48:15.218785Z",
     "iopub.status.idle": "2020-08-15T03:48:15.221710Z",
     "shell.execute_reply": "2020-08-15T03:48:15.222217Z"
    },
    "papermill": {
     "duration": 0.018653,
     "end_time": "2020-08-15T03:48:15.222364",
     "exception": false,
     "start_time": "2020-08-15T03:48:15.203711",
     "status": "completed"
    },
    "tags": []
   },
   "outputs": [
    {
     "name": "stdout",
     "output_type": "stream",
     "text": [
      "{'fname': 'Durgesh', 'lname': 'Samariya', 'age': 28}\n"
     ]
    }
   ],
   "source": [
    "\n",
    "personal = { 'fname' : 'Durgesh', 'lname' : 'Samariya', 'age' : 28 }\n",
    "\n",
    "print(personal)\n",
    "# output\n",
    "# {'fname': 'Durgesh', 'lname': 'Samariya', 'age': 28}\n",
    "\n",
    "# change fname and lname\n",
    "\n",
    "personal['fname'] = 'Hello'\n",
    "personal['lname'] = 'World'\n",
    "\n",
    "# output\n",
    "# {'fname': 'Hello', 'lname': 'World', 'age': 28}\n",
    "\n",
    "# add city as key and Melbourne as value\n",
    "personal['city'] = 'Melbourne'\n",
    "\n",
    "# output\n",
    "# {'fname': 'Hello', 'lname': 'World', 'age': 28, 'city': 'Melbourne'}"
   ]
  },
  {
   "cell_type": "markdown",
   "metadata": {
    "papermill": {
     "duration": 0.009064,
     "end_time": "2020-08-15T03:48:15.240605",
     "exception": false,
     "start_time": "2020-08-15T03:48:15.231541",
     "status": "completed"
    },
    "tags": []
   },
   "source": [
    "### Removing key-value from Dictionary\n",
    "We can remove unwanted information from the dictionary."
   ]
  },
  {
   "cell_type": "code",
   "execution_count": 16,
   "metadata": {
    "ExecuteTime": {
     "end_time": "2020-08-16T07:00:55.724574Z",
     "start_time": "2020-08-16T07:00:55.717482Z"
    },
    "execution": {
     "iopub.execute_input": "2020-08-15T03:48:15.266307Z",
     "iopub.status.busy": "2020-08-15T03:48:15.265581Z",
     "iopub.status.idle": "2020-08-15T03:48:15.268541Z",
     "shell.execute_reply": "2020-08-15T03:48:15.269022Z"
    },
    "papermill": {
     "duration": 0.018732,
     "end_time": "2020-08-15T03:48:15.269176",
     "exception": false,
     "start_time": "2020-08-15T03:48:15.250444",
     "status": "completed"
    },
    "tags": []
   },
   "outputs": [
    {
     "name": "stdout",
     "output_type": "stream",
     "text": [
      "{'fname': 'Durgesh', 'lname': 'Samariya', 'age': 28, 'city': 'Melbourne'}\n"
     ]
    }
   ],
   "source": [
    "personal = { 'fname' : 'Durgesh', 'lname' : 'Samariya', 'age' : 28, 'city':'Melbourne'}\n",
    "\n",
    "print(personal)\n",
    "# output\n",
    "# {'fname': 'Durgesh', 'lname': 'Samariya', 'age': 28, 'city':'Melbourne'} \n",
    "\n",
    "# remove city information\n",
    "del personal['city']\n",
    "\n",
    "# output\n",
    "# {'fname': 'Durgesh', 'lname': 'Samariya', 'age': 28} "
   ]
  },
  {
   "cell_type": "markdown",
   "metadata": {
    "papermill": {
     "duration": 0.009174,
     "end_time": "2020-08-15T03:48:15.287939",
     "exception": false,
     "start_time": "2020-08-15T03:48:15.278765",
     "status": "completed"
    },
    "tags": []
   },
   "source": [
    "## Looping through dictionary\n",
    "Like lists and tuples, we can use a loop to check each key and value of the dictionary."
   ]
  },
  {
   "cell_type": "code",
   "execution_count": 17,
   "metadata": {
    "ExecuteTime": {
     "end_time": "2020-08-16T07:00:55.765644Z",
     "start_time": "2020-08-16T07:00:55.757333Z"
    },
    "execution": {
     "iopub.execute_input": "2020-08-15T03:48:15.324811Z",
     "iopub.status.busy": "2020-08-15T03:48:15.323810Z",
     "iopub.status.idle": "2020-08-15T03:48:15.336994Z",
     "shell.execute_reply": "2020-08-15T03:48:15.336185Z"
    },
    "papermill": {
     "duration": 0.040123,
     "end_time": "2020-08-15T03:48:15.337180",
     "exception": false,
     "start_time": "2020-08-15T03:48:15.297057",
     "status": "completed"
    },
    "tags": []
   },
   "outputs": [
    {
     "name": "stdout",
     "output_type": "stream",
     "text": [
      "fname\n",
      "Durgesh\n",
      "lname\n",
      "Samariya\n",
      "age\n",
      "28\n"
     ]
    }
   ],
   "source": [
    "\n",
    "personal = { 'fname' : 'Durgesh', 'lname' : 'Samariya', 'age' : 28 }\n",
    "\n",
    "for key,value in personal.items():\n",
    "  print(key)\n",
    "  print(value)\n",
    "  \n",
    "# output\n",
    "# fname\n",
    "# Durgesh\n",
    "# lname\n",
    "# Samariya\n",
    "# age\n",
    "# 28"
   ]
  },
  {
   "cell_type": "markdown",
   "metadata": {
    "papermill": {
     "duration": 0.013711,
     "end_time": "2020-08-15T03:48:15.365808",
     "exception": false,
     "start_time": "2020-08-15T03:48:15.352097",
     "status": "completed"
    },
    "tags": []
   },
   "source": [
    "In dictionaries, you can loop through keys or values only. Let’s have a look at code."
   ]
  },
  {
   "cell_type": "code",
   "execution_count": 18,
   "metadata": {
    "ExecuteTime": {
     "end_time": "2020-08-16T07:00:55.912579Z",
     "start_time": "2020-08-16T07:00:55.903874Z"
    },
    "execution": {
     "iopub.execute_input": "2020-08-15T03:48:15.404613Z",
     "iopub.status.busy": "2020-08-15T03:48:15.403550Z",
     "iopub.status.idle": "2020-08-15T03:48:15.408899Z",
     "shell.execute_reply": "2020-08-15T03:48:15.407913Z"
    },
    "papermill": {
     "duration": 0.028495,
     "end_time": "2020-08-15T03:48:15.409100",
     "exception": false,
     "start_time": "2020-08-15T03:48:15.380605",
     "status": "completed"
    },
    "tags": []
   },
   "outputs": [
    {
     "name": "stdout",
     "output_type": "stream",
     "text": [
      "fname\n",
      "lname\n",
      "age\n",
      "Durgesh\n",
      "Samariya\n",
      "28\n"
     ]
    }
   ],
   "source": [
    "personal = { 'fname' : 'Durgesh', 'lname' : 'Samariya', 'age' : 28 }\n",
    "\n",
    "for key in personal.keys():\n",
    "  print(key)\n",
    "  \n",
    "# output\n",
    "# fname\n",
    "# lname\n",
    "# age\n",
    "\n",
    "for value in personal.values():\n",
    "  print(value)\n",
    "  \n",
    "# output\n",
    "# Durgesh\n",
    "# Samariya\n",
    "# 28"
   ]
  },
  {
   "cell_type": "markdown",
   "metadata": {
    "papermill": {
     "duration": 0.010901,
     "end_time": "2020-08-15T03:48:15.435852",
     "exception": false,
     "start_time": "2020-08-15T03:48:15.424951",
     "status": "completed"
    },
    "tags": []
   },
   "source": [
    "## Nested Dictionary\n",
    "In python, you can store dictionaries in the list or vice versa. First, let’s have a look at how to create a list of dictionaries."
   ]
  },
  {
   "cell_type": "code",
   "execution_count": 19,
   "metadata": {
    "ExecuteTime": {
     "end_time": "2020-08-16T07:00:56.059156Z",
     "start_time": "2020-08-16T07:00:56.047845Z"
    },
    "execution": {
     "iopub.execute_input": "2020-08-15T03:48:15.462915Z",
     "iopub.status.busy": "2020-08-15T03:48:15.462081Z",
     "iopub.status.idle": "2020-08-15T03:48:15.467467Z",
     "shell.execute_reply": "2020-08-15T03:48:15.466608Z"
    },
    "papermill": {
     "duration": 0.021392,
     "end_time": "2020-08-15T03:48:15.467652",
     "exception": false,
     "start_time": "2020-08-15T03:48:15.446260",
     "status": "completed"
    },
    "tags": []
   },
   "outputs": [
    {
     "name": "stdout",
     "output_type": "stream",
     "text": [
      "{'name': 'Person1', 'age': 28}\n",
      "{'name': 'Person2', 'age': 15}\n",
      "{'name': 'Person3', 'age': 40}\n"
     ]
    }
   ],
   "source": [
    "\n",
    "person1 = {'name':'Person1', 'age':28}\n",
    "person2 = {'name':'Person2', 'age':15}\n",
    "person3 = {'name':'Person3', 'age':40}\n",
    "\n",
    "persons = [person1, person2, person3]\n",
    "\n",
    "for person in persons:\n",
    "  print(person)\n",
    "  \n",
    "# output\n",
    "# {'name': 'Person1', 'age': 28}\n",
    "# {'name': 'Person2', 'age': 15}\n",
    "# {'name': 'Person3', 'age': 40}"
   ]
  },
  {
   "cell_type": "markdown",
   "metadata": {
    "papermill": {
     "duration": 0.010028,
     "end_time": "2020-08-15T03:48:15.492620",
     "exception": false,
     "start_time": "2020-08-15T03:48:15.482592",
     "status": "completed"
    },
    "tags": []
   },
   "source": [
    "Now let’s have a look at how to create lists in dictionaries."
   ]
  },
  {
   "cell_type": "code",
   "execution_count": 20,
   "metadata": {
    "ExecuteTime": {
     "end_time": "2020-08-16T07:00:56.233247Z",
     "start_time": "2020-08-16T07:00:56.225497Z"
    },
    "execution": {
     "iopub.execute_input": "2020-08-15T03:48:15.521259Z",
     "iopub.status.busy": "2020-08-15T03:48:15.520294Z",
     "iopub.status.idle": "2020-08-15T03:48:15.524601Z",
     "shell.execute_reply": "2020-08-15T03:48:15.523861Z"
    },
    "papermill": {
     "duration": 0.021731,
     "end_time": "2020-08-15T03:48:15.524727",
     "exception": false,
     "start_time": "2020-08-15T03:48:15.502996",
     "status": "completed"
    },
    "tags": []
   },
   "outputs": [
    {
     "name": "stdout",
     "output_type": "stream",
     "text": [
      "name\n",
      "['Durgesh', 'Samariya']\n",
      "age\n",
      "27\n"
     ]
    }
   ],
   "source": [
    "person = {'name':['Durgesh', 'Samariya'], 'age': 27}\n",
    "\n",
    "for key,value in person.items():\n",
    "  print(key)\n",
    "  print(value)\n",
    "\n",
    "# output\n",
    "# name\n",
    "# ['Durgesh', 'Samariya']\n",
    "# age\n",
    "# 27"
   ]
  },
  {
   "cell_type": "markdown",
   "metadata": {
    "papermill": {
     "duration": 0.009365,
     "end_time": "2020-08-15T03:48:15.543912",
     "exception": false,
     "start_time": "2020-08-15T03:48:15.534547",
     "status": "completed"
    },
    "tags": []
   },
   "source": [
    "Even you can store a dictionary in the dictionary.\n"
   ]
  },
  {
   "cell_type": "code",
   "execution_count": 21,
   "metadata": {
    "ExecuteTime": {
     "end_time": "2020-08-16T07:00:56.353614Z",
     "start_time": "2020-08-16T07:00:56.346215Z"
    },
    "execution": {
     "iopub.execute_input": "2020-08-15T03:48:15.572828Z",
     "iopub.status.busy": "2020-08-15T03:48:15.571976Z",
     "iopub.status.idle": "2020-08-15T03:48:15.576552Z",
     "shell.execute_reply": "2020-08-15T03:48:15.575152Z"
    },
    "papermill": {
     "duration": 0.022785,
     "end_time": "2020-08-15T03:48:15.576709",
     "exception": false,
     "start_time": "2020-08-15T03:48:15.553924",
     "status": "completed"
    },
    "tags": []
   },
   "outputs": [
    {
     "name": "stdout",
     "output_type": "stream",
     "text": [
      "{'year': 2009, 'rating': 5}\n",
      "2009\n"
     ]
    }
   ],
   "source": [
    "movies = {\n",
    "  'avatar': {\n",
    "    'year': 2009,\n",
    "    'rating': 5\n",
    "  },\n",
    "  'inception' :\n",
    "  {\n",
    "    'year': 2010,\n",
    "    'rating': 5\n",
    "  },\n",
    "  'joker' :\n",
    "  {\n",
    "    'year': 2019,\n",
    "    'rating': 4.5\n",
    "  }\n",
    "}\n",
    "\n",
    "print(movies['avatar'])\n",
    "# output\n",
    "# {'year': 2009, 'rating': 5}\n",
    "\n",
    "print(movies['avatar']['year'])\n",
    "# output\n",
    "# 2009"
   ]
  },
  {
   "cell_type": "markdown",
   "metadata": {
    "papermill": {
     "duration": 0.009456,
     "end_time": "2020-08-15T03:48:15.596718",
     "exception": false,
     "start_time": "2020-08-15T03:48:15.587262",
     "status": "completed"
    },
    "tags": []
   },
   "source": [
    "Today we learned the Basics of python from Python Crash Course book (Chapter 4 and 6). My goal for this 100 Days of Machine Learning Challenge is to learn machine learning from scratch and help others who want to start their journey in machine learning. Many concepts are known to me, but I am starting from scratch to help beginners of the Machine Learning community and revise concepts.\n",
    "\n",
    "Thanks for reading."
   ]
  }
 ],
 "metadata": {
  "kernelspec": {
   "display_name": "Python 3",
   "language": "python",
   "name": "python3"
  },
  "language_info": {
   "codemirror_mode": {
    "name": "ipython",
    "version": 3
   },
   "file_extension": ".py",
   "mimetype": "text/x-python",
   "name": "python",
   "nbconvert_exporter": "python",
   "pygments_lexer": "ipython3",
   "version": "3.8.4"
  },
  "latex_envs": {
   "LaTeX_envs_menu_present": true,
   "autoclose": false,
   "autocomplete": true,
   "bibliofile": "biblio.bib",
   "cite_by": "apalike",
   "current_citInitial": 1,
   "eqLabelWithNumbers": true,
   "eqNumInitial": 1,
   "hotkeys": {
    "equation": "Ctrl-E",
    "itemize": "Ctrl-I"
   },
   "labels_anchors": false,
   "latex_user_defs": false,
   "report_style_numbering": false,
   "user_envs_cfg": false
  },
  "papermill": {
   "duration": 5.742168,
   "end_time": "2020-08-15T03:48:15.752379",
   "environment_variables": {},
   "exception": null,
   "input_path": "__notebook__.ipynb",
   "output_path": "__notebook__.ipynb",
   "parameters": {},
   "start_time": "2020-08-15T03:48:10.010211",
   "version": "2.1.0"
  },
  "toc": {
   "base_numbering": 1,
   "nav_menu": {},
   "number_sections": true,
   "sideBar": true,
   "skip_h1_title": false,
   "title_cell": "Table of Contents",
   "title_sidebar": "Contents",
   "toc_cell": false,
   "toc_position": {},
   "toc_section_display": true,
   "toc_window_display": false
  },
  "varInspector": {
   "cols": {
    "lenName": 16,
    "lenType": 16,
    "lenVar": 40
   },
   "kernels_config": {
    "python": {
     "delete_cmd_postfix": "",
     "delete_cmd_prefix": "del ",
     "library": "var_list.py",
     "varRefreshCmd": "print(var_dic_list())"
    },
    "r": {
     "delete_cmd_postfix": ") ",
     "delete_cmd_prefix": "rm(",
     "library": "var_list.r",
     "varRefreshCmd": "cat(var_dic_list()) "
    }
   },
   "types_to_exclude": [
    "module",
    "function",
    "builtin_function_or_method",
    "instance",
    "_Feature"
   ],
   "window_display": false
  }
 },
 "nbformat": 4,
 "nbformat_minor": 4
}
