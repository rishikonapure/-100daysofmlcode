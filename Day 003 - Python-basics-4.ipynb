{
 "cells": [
  {
   "cell_type": "markdown",
   "metadata": {},
   "source": [
    "# Day 3 of 100 Days of Machine Learning"
   ]
  },
  {
   "cell_type": "markdown",
   "metadata": {
    "papermill": {
     "duration": 0.007311,
     "end_time": "2020-08-15T16:05:59.827538",
     "exception": false,
     "start_time": "2020-08-15T16:05:59.820227",
     "status": "completed"
    },
    "tags": []
   },
   "source": [
    "# Python Basics — 4: Functions, Working with functions, Classes, Working with Class, Inheritance"
   ]
  },
  {
   "cell_type": "markdown",
   "metadata": {
    "papermill": {
     "duration": 0.005148,
     "end_time": "2020-08-15T16:05:59.838666",
     "exception": false,
     "start_time": "2020-08-15T16:05:59.833518",
     "status": "completed"
    },
    "tags": []
   },
   "source": [
    "## Content\n",
    "- Functions\n",
    "- How to define a function\n",
    "- Passing value in function\n",
    "- Classes\n",
    "- How to make an instance of class and call methods from class\n",
    "- Inheritance\n"
   ]
  },
  {
   "cell_type": "markdown",
   "metadata": {
    "papermill": {
     "duration": 0.005104,
     "end_time": "2020-08-15T16:05:59.849127",
     "exception": false,
     "start_time": "2020-08-15T16:05:59.844023",
     "status": "completed"
    },
    "tags": []
   },
   "source": [
    "## Functions\n",
    "### How to define a function\n",
    "Let’s have a look at how to define a function in code."
   ]
  },
  {
   "cell_type": "code",
   "execution_count": 1,
   "metadata": {
    "_cell_guid": "79c7e3d0-c299-4dcb-8224-4455121ee9b0",
    "_uuid": "d629ff2d2480ee46fbb7e2d37f6b5fab8052498a",
    "execution": {
     "iopub.execute_input": "2020-08-15T16:05:59.867084Z",
     "iopub.status.busy": "2020-08-15T16:05:59.866139Z",
     "iopub.status.idle": "2020-08-15T16:05:59.871527Z",
     "shell.execute_reply": "2020-08-15T16:05:59.870173Z"
    },
    "papermill": {
     "duration": 0.016951,
     "end_time": "2020-08-15T16:05:59.871721",
     "exception": false,
     "start_time": "2020-08-15T16:05:59.854770",
     "status": "completed"
    },
    "tags": []
   },
   "outputs": [
    {
     "name": "stdout",
     "output_type": "stream",
     "text": [
      "Welcome to my blog.\n"
     ]
    }
   ],
   "source": [
    "\n",
    "def welcome_to_blog():\n",
    "  # print welcome message\n",
    "  print(\"Welcome to my blog.\")\n",
    "  \n",
    "welcome_to_blog()\n",
    "\n",
    "# output\n",
    "# Welcome to my blog."
   ]
  },
  {
   "cell_type": "markdown",
   "metadata": {
    "papermill": {
     "duration": 0.005296,
     "end_time": "2020-08-15T16:05:59.883469",
     "exception": false,
     "start_time": "2020-08-15T16:05:59.878173",
     "status": "completed"
    },
    "tags": []
   },
   "source": [
    "### Passing value in function"
   ]
  },
  {
   "cell_type": "code",
   "execution_count": 2,
   "metadata": {
    "execution": {
     "iopub.execute_input": "2020-08-15T16:05:59.901517Z",
     "iopub.status.busy": "2020-08-15T16:05:59.900576Z",
     "iopub.status.idle": "2020-08-15T16:05:59.904198Z",
     "shell.execute_reply": "2020-08-15T16:05:59.904768Z"
    },
    "papermill": {
     "duration": 0.015734,
     "end_time": "2020-08-15T16:05:59.904955",
     "exception": false,
     "start_time": "2020-08-15T16:05:59.889221",
     "status": "completed"
    },
    "tags": []
   },
   "outputs": [
    {
     "name": "stdout",
     "output_type": "stream",
     "text": [
      "Hello Durgesh, Welcome to blog.\n"
     ]
    }
   ],
   "source": [
    "def welcome_to_blog(name):\n",
    "  # print welcome message\n",
    "  message = \"Hello \" + name.title() + \", Welcome to blog.\"\n",
    "  print(message)\n",
    "  \n",
    "welcome_to_blog('Durgesh')\n"
   ]
  },
  {
   "cell_type": "code",
   "execution_count": 3,
   "metadata": {
    "execution": {
     "iopub.execute_input": "2020-08-15T16:05:59.923472Z",
     "iopub.status.busy": "2020-08-15T16:05:59.922693Z",
     "iopub.status.idle": "2020-08-15T16:05:59.926566Z",
     "shell.execute_reply": "2020-08-15T16:05:59.925986Z"
    },
    "papermill": {
     "duration": 0.015993,
     "end_time": "2020-08-15T16:05:59.926692",
     "exception": false,
     "start_time": "2020-08-15T16:05:59.910699",
     "status": "completed"
    },
    "tags": []
   },
   "outputs": [
    {
     "name": "stdout",
     "output_type": "stream",
     "text": [
      "Hello Durgesh, Welcome to blog.\n",
      "Hello John, Welcome to blog.\n",
      "Hello Jessica, Welcome to blog.\n"
     ]
    }
   ],
   "source": [
    "def welcome_to_blog(name):\n",
    "  # print welcome message\n",
    "  message = \"Hello \" + name.title() + \", Welcome to blog.\"\n",
    "  print(message)\n",
    "  \n",
    "welcome_to_blog('Durgesh')\n",
    "welcome_to_blog('John')\n",
    "welcome_to_blog('Jessica')"
   ]
  },
  {
   "cell_type": "markdown",
   "metadata": {
    "papermill": {
     "duration": 0.005437,
     "end_time": "2020-08-15T16:05:59.939553",
     "exception": false,
     "start_time": "2020-08-15T16:05:59.934116",
     "status": "completed"
    },
    "tags": []
   },
   "source": [
    "## Classes\n",
    "\n",
    "```\n",
    "class class_name():\n",
    " def __init__(self,..,..):\n",
    "  ... do something ..\n",
    ".. do something ..\n",
    "```"
   ]
  },
  {
   "cell_type": "code",
   "execution_count": 4,
   "metadata": {
    "execution": {
     "iopub.execute_input": "2020-08-15T16:05:59.958262Z",
     "iopub.status.busy": "2020-08-15T16:05:59.957444Z",
     "iopub.status.idle": "2020-08-15T16:05:59.960701Z",
     "shell.execute_reply": "2020-08-15T16:05:59.961333Z"
    },
    "papermill": {
     "duration": 0.01619,
     "end_time": "2020-08-15T16:05:59.961523",
     "exception": false,
     "start_time": "2020-08-15T16:05:59.945333",
     "status": "completed"
    },
    "tags": []
   },
   "outputs": [],
   "source": [
    "\n",
    "class users():\n",
    "  def __init__(self, name):\n",
    "    self.name = name\n",
    "  \n",
    "  def greetings(self):\n",
    "    print(\"Hello \", self.name.title())"
   ]
  },
  {
   "cell_type": "markdown",
   "metadata": {
    "papermill": {
     "duration": 0.005435,
     "end_time": "2020-08-15T16:05:59.973169",
     "exception": false,
     "start_time": "2020-08-15T16:05:59.967734",
     "status": "completed"
    },
    "tags": []
   },
   "source": [
    "## Making Instance and Call Methods from Class"
   ]
  },
  {
   "cell_type": "code",
   "execution_count": 5,
   "metadata": {
    "execution": {
     "iopub.execute_input": "2020-08-15T16:05:59.992368Z",
     "iopub.status.busy": "2020-08-15T16:05:59.991579Z",
     "iopub.status.idle": "2020-08-15T16:05:59.995003Z",
     "shell.execute_reply": "2020-08-15T16:05:59.995542Z"
    },
    "papermill": {
     "duration": 0.016997,
     "end_time": "2020-08-15T16:05:59.995723",
     "exception": false,
     "start_time": "2020-08-15T16:05:59.978726",
     "status": "completed"
    },
    "tags": []
   },
   "outputs": [
    {
     "name": "stdout",
     "output_type": "stream",
     "text": [
      "Hello  Durgesh\n"
     ]
    }
   ],
   "source": [
    "\n",
    "class users():\n",
    "  def __init__(self, name):\n",
    "    self.name = name\n",
    "  \n",
    "  def greetings(self):\n",
    "    print(\"Hello \", self.name.title())\n",
    "    \n",
    "user = users('Durgesh')\n",
    "user.greetings()\n",
    "\n",
    "# output\n",
    "# Hello, Durgesh"
   ]
  },
  {
   "cell_type": "code",
   "execution_count": 6,
   "metadata": {
    "execution": {
     "iopub.execute_input": "2020-08-15T16:06:00.018185Z",
     "iopub.status.busy": "2020-08-15T16:06:00.017051Z",
     "iopub.status.idle": "2020-08-15T16:06:00.020817Z",
     "shell.execute_reply": "2020-08-15T16:06:00.021424Z"
    },
    "papermill": {
     "duration": 0.019396,
     "end_time": "2020-08-15T16:06:00.021590",
     "exception": false,
     "start_time": "2020-08-15T16:06:00.002194",
     "status": "completed"
    },
    "tags": []
   },
   "outputs": [
    {
     "name": "stdout",
     "output_type": "stream",
     "text": [
      "Hello  James\n",
      "Hello  Jessica\n"
     ]
    }
   ],
   "source": [
    "\n",
    "class users():\n",
    "  def __init__(self, name):\n",
    "    self.name = name\n",
    "  \n",
    "  def greetings(self):\n",
    "    print(\"Hello \", self.name.title())\n",
    "    \n",
    "user1 = users('James')\n",
    "user1.greetings()\n",
    "\n",
    "# output\n",
    "# Hello, James\n",
    "\n",
    "user1 = users('Jessica')\n",
    "user1.greetings()\n",
    "\n",
    "# output\n",
    "# Hello, Jessica"
   ]
  },
  {
   "cell_type": "markdown",
   "metadata": {
    "papermill": {
     "duration": 0.005959,
     "end_time": "2020-08-15T16:06:00.033994",
     "exception": false,
     "start_time": "2020-08-15T16:06:00.028035",
     "status": "completed"
    },
    "tags": []
   },
   "source": [
    "## Inheritance"
   ]
  },
  {
   "cell_type": "code",
   "execution_count": 7,
   "metadata": {
    "execution": {
     "iopub.execute_input": "2020-08-15T16:06:00.058321Z",
     "iopub.status.busy": "2020-08-15T16:06:00.057271Z",
     "iopub.status.idle": "2020-08-15T16:06:00.061908Z",
     "shell.execute_reply": "2020-08-15T16:06:00.061262Z"
    },
    "papermill": {
     "duration": 0.021729,
     "end_time": "2020-08-15T16:06:00.062049",
     "exception": false,
     "start_time": "2020-08-15T16:06:00.040320",
     "status": "completed"
    },
    "tags": []
   },
   "outputs": [
    {
     "name": "stdout",
     "output_type": "stream",
     "text": [
      "Hello  James\n",
      "James is an admin.\n",
      "Hello  Jessica\n"
     ]
    }
   ],
   "source": [
    "class users():\n",
    "  def __init__(self, name):\n",
    "    self.name = name\n",
    "  \n",
    "  def greetings(self):\n",
    "    print(\"Hello \", self.name.title())\n",
    "\n",
    "class admin(users):\n",
    "  def __init__(self, name):\n",
    "    super().__init__(name)\n",
    "  \n",
    "  def describe_admin(self):\n",
    "    print(self.name.title() + \" is an admin.\")\n",
    "  \n",
    "admin1 = admin('James')\n",
    "admin1.greetings()\n",
    "admin1.describe_admin()\n",
    "\n",
    "# output\n",
    "# Hello, James\n",
    "# James is admin.\n",
    "\n",
    "user1 = users('Jessica')\n",
    "user1.greetings()\n",
    "\n",
    "# output\n",
    "# Hello, Jessica"
   ]
  },
  {
   "cell_type": "markdown",
   "metadata": {
    "papermill": {
     "duration": 0.00637,
     "end_time": "2020-08-15T16:06:00.074904",
     "exception": false,
     "start_time": "2020-08-15T16:06:00.068534",
     "status": "completed"
    },
    "tags": []
   },
   "source": [
    "Today we learned the Basics of python. My goal for this 100 Days of Machine Learning Challenge is to learn machine learning from scratch and help others who want to start their journey in machine learning. Many concepts are known to me, but I am starting from scratch to help beginners of the Machine Learning community and revise concepts.\n",
    "\n",
    "Thanks for Reading!"
   ]
  },
  {
   "cell_type": "code",
   "execution_count": null,
   "metadata": {},
   "outputs": [],
   "source": []
  }
 ],
 "metadata": {
  "kernelspec": {
   "display_name": "Python 3",
   "language": "python",
   "name": "python3"
  },
  "language_info": {
   "codemirror_mode": {
    "name": "ipython",
    "version": 3
   },
   "file_extension": ".py",
   "mimetype": "text/x-python",
   "name": "python",
   "nbconvert_exporter": "python",
   "pygments_lexer": "ipython3",
   "version": "3.7.4"
  },
  "latex_envs": {
   "LaTeX_envs_menu_present": true,
   "autoclose": false,
   "autocomplete": true,
   "bibliofile": "biblio.bib",
   "cite_by": "apalike",
   "current_citInitial": 1,
   "eqLabelWithNumbers": true,
   "eqNumInitial": 1,
   "hotkeys": {
    "equation": "Ctrl-E",
    "itemize": "Ctrl-I"
   },
   "labels_anchors": false,
   "latex_user_defs": false,
   "report_style_numbering": false,
   "user_envs_cfg": false
  },
  "papermill": {
   "duration": 5.343201,
   "end_time": "2020-08-15T16:06:00.190186",
   "environment_variables": {},
   "exception": null,
   "input_path": "__notebook__.ipynb",
   "output_path": "__notebook__.ipynb",
   "parameters": {},
   "start_time": "2020-08-15T16:05:54.846985",
   "version": "2.1.0"
  },
  "toc": {
   "base_numbering": 1,
   "nav_menu": {},
   "number_sections": true,
   "sideBar": true,
   "skip_h1_title": false,
   "title_cell": "Table of Contents",
   "title_sidebar": "Contents",
   "toc_cell": false,
   "toc_position": {},
   "toc_section_display": true,
   "toc_window_display": false
  },
  "varInspector": {
   "cols": {
    "lenName": 16,
    "lenType": 16,
    "lenVar": 40
   },
   "kernels_config": {
    "python": {
     "delete_cmd_postfix": "",
     "delete_cmd_prefix": "del ",
     "library": "var_list.py",
     "varRefreshCmd": "print(var_dic_list())"
    },
    "r": {
     "delete_cmd_postfix": ") ",
     "delete_cmd_prefix": "rm(",
     "library": "var_list.r",
     "varRefreshCmd": "cat(var_dic_list()) "
    }
   },
   "types_to_exclude": [
    "module",
    "function",
    "builtin_function_or_method",
    "instance",
    "_Feature"
   ],
   "window_display": false
  }
 },
 "nbformat": 4,
 "nbformat_minor": 4
}
