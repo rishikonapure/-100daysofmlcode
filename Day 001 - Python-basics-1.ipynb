{
 "cells": [
  {
   "cell_type": "markdown",
   "metadata": {
    "hide_input": true,
    "papermill": {
     "duration": 0.007165,
     "end_time": "2020-08-15T03:48:51.589233",
     "exception": false,
     "start_time": "2020-08-15T03:48:51.582068",
     "status": "completed"
    },
    "tags": []
   },
   "source": [
    "# Day 1 of 100 Days of Machine Learning Challenge."
   ]
  },
  {
   "cell_type": "markdown",
   "metadata": {
    "papermill": {
     "duration": 0.009745,
     "end_time": "2020-08-15T03:48:51.574387",
     "exception": false,
     "start_time": "2020-08-15T03:48:51.564642",
     "status": "completed"
    },
    "tags": []
   },
   "source": [
    "# Python Basics : Variables, Data Types and List"
   ]
  },
  {
   "cell_type": "markdown",
   "metadata": {
    "papermill": {
     "duration": 0.007064,
     "end_time": "2020-08-15T03:48:51.620396",
     "exception": false,
     "start_time": "2020-08-15T03:48:51.613332",
     "status": "completed"
    },
    "tags": []
   },
   "source": [
    "### Content\n",
    "- Introduction\n",
    "- Print function\n",
    "- Comment\n",
    "- Variables\n",
    "- Strings\n",
    "- Basic string operations\n",
    "- Integers\n",
    "- Floats\n",
    "- Tip : Avoid errors with str() function\n",
    "- List\n",
    "- Basic List Operations\n"
   ]
  },
  {
   "cell_type": "markdown",
   "metadata": {
    "papermill": {
     "duration": 0.007076,
     "end_time": "2020-08-15T03:48:51.634888",
     "exception": false,
     "start_time": "2020-08-15T03:48:51.627812",
     "status": "completed"
    },
    "tags": []
   },
   "source": [
    "## Introduction\n",
    "Python is an interpreted, object-oriented, high-level programming language. Python’s simple, easy to learn syntax emphasizes readability and therefore reduces the cost of program maintenance. Programmers are using python for differnrent use like; to develop games, build web applications, Apps and more."
   ]
  },
  {
   "cell_type": "markdown",
   "metadata": {
    "papermill": {
     "duration": 0.007056,
     "end_time": "2020-08-15T03:48:51.649363",
     "exception": false,
     "start_time": "2020-08-15T03:48:51.642307",
     "status": "completed"
    },
    "tags": []
   },
   "source": [
    "## Print Function\n",
    "In python, print() function is used to print messages. Have a look."
   ]
  },
  {
   "cell_type": "code",
   "execution_count": 1,
   "metadata": {
    "_cell_guid": "b1076dfc-b9ad-4769-8c92-a6c4dae69d19",
    "_uuid": "8f2839f25d086af736a60e9eeb907d3b93b6e0e5",
    "execution": {
     "iopub.execute_input": "2020-08-15T03:48:51.669487Z",
     "iopub.status.busy": "2020-08-15T03:48:51.668754Z",
     "iopub.status.idle": "2020-08-15T03:48:51.673039Z",
     "shell.execute_reply": "2020-08-15T03:48:51.672223Z"
    },
    "papermill": {
     "duration": 0.016476,
     "end_time": "2020-08-15T03:48:51.673226",
     "exception": false,
     "start_time": "2020-08-15T03:48:51.656750",
     "status": "completed"
    },
    "tags": []
   },
   "outputs": [
    {
     "name": "stdout",
     "output_type": "stream",
     "text": [
      "Hello World !!\n"
     ]
    }
   ],
   "source": [
    "print(\"Hello World !!\")"
   ]
  },
  {
   "cell_type": "markdown",
   "metadata": {
    "papermill": {
     "duration": 0.00712,
     "end_time": "2020-08-15T03:48:51.689289",
     "exception": false,
     "start_time": "2020-08-15T03:48:51.682169",
     "status": "completed"
    },
    "tags": []
   },
   "source": [
    "## Comments\n",
    "Comments are very useful in any programming language. The main purpose of writing comments is to explain what code supposed to do. In python, the hash symbol(`#`) indicates the comment. Any sentence following hash mark is comment."
   ]
  },
  {
   "cell_type": "code",
   "execution_count": 2,
   "metadata": {
    "_cell_guid": "79c7e3d0-c299-4dcb-8224-4455121ee9b0",
    "_uuid": "d629ff2d2480ee46fbb7e2d37f6b5fab8052498a",
    "execution": {
     "iopub.execute_input": "2020-08-15T03:48:51.709440Z",
     "iopub.status.busy": "2020-08-15T03:48:51.708634Z",
     "iopub.status.idle": "2020-08-15T03:48:51.711954Z",
     "shell.execute_reply": "2020-08-15T03:48:51.712599Z"
    },
    "papermill": {
     "duration": 0.016077,
     "end_time": "2020-08-15T03:48:51.712744",
     "exception": false,
     "start_time": "2020-08-15T03:48:51.696667",
     "status": "completed"
    },
    "tags": []
   },
   "outputs": [
    {
     "name": "stdout",
     "output_type": "stream",
     "text": [
      "You sucessful learn how to comment.\n"
     ]
    }
   ],
   "source": [
    "# This is comment.\n",
    "print(\"You sucessful learn how to comment.\")"
   ]
  },
  {
   "cell_type": "markdown",
   "metadata": {
    "papermill": {
     "duration": 0.007891,
     "end_time": "2020-08-15T03:48:51.728398",
     "exception": false,
     "start_time": "2020-08-15T03:48:51.720507",
     "status": "completed"
    },
    "tags": []
   },
   "source": [
    "## Variables\n",
    "Basically you can say variable is a word that contains value.\n",
    "At I hight level, each variable contains a value, each value is piece of information that is associated with the variable.\n",
    "For example, if you want to store 1 in variable."
   ]
  },
  {
   "cell_type": "code",
   "execution_count": 3,
   "metadata": {
    "execution": {
     "iopub.execute_input": "2020-08-15T03:48:51.748632Z",
     "iopub.status.busy": "2020-08-15T03:48:51.747878Z",
     "iopub.status.idle": "2020-08-15T03:48:51.750893Z",
     "shell.execute_reply": "2020-08-15T03:48:51.750390Z"
    },
    "papermill": {
     "duration": 0.014907,
     "end_time": "2020-08-15T03:48:51.751010",
     "exception": false,
     "start_time": "2020-08-15T03:48:51.736103",
     "status": "completed"
    },
    "tags": []
   },
   "outputs": [],
   "source": [
    "a = 10"
   ]
  },
  {
   "cell_type": "markdown",
   "metadata": {
    "papermill": {
     "duration": 0.007545,
     "end_time": "2020-08-15T03:48:51.766272",
     "exception": false,
     "start_time": "2020-08-15T03:48:51.758727",
     "status": "completed"
    },
    "tags": []
   },
   "source": [
    "We just assigned the value to “a” variable. Python support different data types, like `int`, `float`, `string` and `boolean`. Let’s have a look at different data types of python and how to declare and assign values in it."
   ]
  },
  {
   "cell_type": "code",
   "execution_count": 4,
   "metadata": {
    "execution": {
     "iopub.execute_input": "2020-08-15T03:48:51.786752Z",
     "iopub.status.busy": "2020-08-15T03:48:51.785961Z",
     "iopub.status.idle": "2020-08-15T03:48:51.788427Z",
     "shell.execute_reply": "2020-08-15T03:48:51.788878Z"
    },
    "papermill": {
     "duration": 0.015299,
     "end_time": "2020-08-15T03:48:51.789025",
     "exception": false,
     "start_time": "2020-08-15T03:48:51.773726",
     "status": "completed"
    },
    "tags": []
   },
   "outputs": [],
   "source": [
    "# integers\n",
    "a = 1\n",
    "\n",
    "# float\n",
    "b = 1.1\n",
    "\n",
    "# string\n",
    "c = 'Hello World !'\n",
    "\n",
    "# boolean\n",
    "d = True"
   ]
  },
  {
   "cell_type": "markdown",
   "metadata": {
    "papermill": {
     "duration": 0.007313,
     "end_time": "2020-08-15T03:48:51.804366",
     "exception": false,
     "start_time": "2020-08-15T03:48:51.797053",
     "status": "completed"
    },
    "tags": []
   },
   "source": [
    "## Strings\n",
    "A string is simply series of characters. Anything inside single quote (') or double quotes (\") considered as string in python."
   ]
  },
  {
   "cell_type": "code",
   "execution_count": 5,
   "metadata": {
    "execution": {
     "iopub.execute_input": "2020-08-15T03:48:51.825125Z",
     "iopub.status.busy": "2020-08-15T03:48:51.824428Z",
     "iopub.status.idle": "2020-08-15T03:48:51.828578Z",
     "shell.execute_reply": "2020-08-15T03:48:51.827741Z"
    },
    "papermill": {
     "duration": 0.016826,
     "end_time": "2020-08-15T03:48:51.828729",
     "exception": false,
     "start_time": "2020-08-15T03:48:51.811903",
     "status": "completed"
    },
    "tags": []
   },
   "outputs": [
    {
     "name": "stdout",
     "output_type": "stream",
     "text": [
      "This is string\n",
      "This is another string\n"
     ]
    }
   ],
   "source": [
    "a = 'This is string'\n",
    "b = \"This is another string\"\n",
    "\n",
    "print(a)\n",
    "print(b)\n"
   ]
  },
  {
   "cell_type": "markdown",
   "metadata": {
    "papermill": {
     "duration": 0.007474,
     "end_time": "2020-08-15T03:48:51.844659",
     "exception": false,
     "start_time": "2020-08-15T03:48:51.837185",
     "status": "completed"
    },
    "tags": []
   },
   "source": [
    "## Basic String Operations\n",
    "### Changing case of String\n",
    "One of the simple thing that we can do with string is to convert case of the words in string. In python, we have `title()`, `upper()` and `lower()` function to convert string in Title Case (first letter of each word is capital), UPPER CASE and lower case respectively."
   ]
  },
  {
   "cell_type": "code",
   "execution_count": 6,
   "metadata": {
    "execution": {
     "iopub.execute_input": "2020-08-15T03:48:51.865773Z",
     "iopub.status.busy": "2020-08-15T03:48:51.865126Z",
     "iopub.status.idle": "2020-08-15T03:48:51.869069Z",
     "shell.execute_reply": "2020-08-15T03:48:51.868574Z"
    },
    "papermill": {
     "duration": 0.016752,
     "end_time": "2020-08-15T03:48:51.869203",
     "exception": false,
     "start_time": "2020-08-15T03:48:51.852451",
     "status": "completed"
    },
    "tags": []
   },
   "outputs": [
    {
     "name": "stdout",
     "output_type": "stream",
     "text": [
      "Title case : Hello World !\n",
      "Upper case : HELLO WORLD !\n",
      "Lower case : hello world !\n"
     ]
    }
   ],
   "source": [
    "message = \"HeLLo WoRLd !\"\n",
    "\n",
    "print(\"Title case : \" + message.title())\n",
    "print(\"Upper case : \" + message.upper())\n",
    "print(\"Lower case : \" + message.lower())"
   ]
  },
  {
   "cell_type": "markdown",
   "metadata": {
    "papermill": {
     "duration": 0.007601,
     "end_time": "2020-08-15T03:48:51.884386",
     "exception": false,
     "start_time": "2020-08-15T03:48:51.876785",
     "status": "completed"
    },
    "tags": []
   },
   "source": [
    "### Combining string\n",
    "It is always useful to combine multiple strings. In python, we can join (combine) string using plus (`+`) sign."
   ]
  },
  {
   "cell_type": "code",
   "execution_count": 7,
   "metadata": {
    "execution": {
     "iopub.execute_input": "2020-08-15T03:48:51.904627Z",
     "iopub.status.busy": "2020-08-15T03:48:51.903872Z",
     "iopub.status.idle": "2020-08-15T03:48:51.907549Z",
     "shell.execute_reply": "2020-08-15T03:48:51.906924Z"
    },
    "papermill": {
     "duration": 0.015752,
     "end_time": "2020-08-15T03:48:51.907657",
     "exception": false,
     "start_time": "2020-08-15T03:48:51.891905",
     "status": "completed"
    },
    "tags": []
   },
   "outputs": [
    {
     "name": "stdout",
     "output_type": "stream",
     "text": [
      "Durgesh Samariya\n"
     ]
    }
   ],
   "source": [
    "first_name = \"Durgesh\"\n",
    "last_name = \"Samariya\"\n",
    "\n",
    "full_name = first_name + \" \" + last_name\n",
    "\n",
    "print(full_name)"
   ]
  },
  {
   "cell_type": "markdown",
   "metadata": {
    "papermill": {
     "duration": 0.00749,
     "end_time": "2020-08-15T03:48:51.923055",
     "exception": false,
     "start_time": "2020-08-15T03:48:51.915565",
     "status": "completed"
    },
    "tags": []
   },
   "source": [
    "### Adding white space (tab or new line) to string\n",
    "In python, white space means any non-printing space such as tab, new line and spaces. In python, we can add tab to our string using `\\t` and add new line using `\\n`."
   ]
  },
  {
   "cell_type": "code",
   "execution_count": 8,
   "metadata": {
    "execution": {
     "iopub.execute_input": "2020-08-15T03:48:51.944260Z",
     "iopub.status.busy": "2020-08-15T03:48:51.943610Z",
     "iopub.status.idle": "2020-08-15T03:48:51.947982Z",
     "shell.execute_reply": "2020-08-15T03:48:51.947280Z"
    },
    "papermill": {
     "duration": 0.017377,
     "end_time": "2020-08-15T03:48:51.948133",
     "exception": false,
     "start_time": "2020-08-15T03:48:51.930756",
     "status": "completed"
    },
    "tags": []
   },
   "outputs": [
    {
     "name": "stdout",
     "output_type": "stream",
     "text": [
      "Durgesh\tSamariya\n",
      "Durgesh\n",
      "Samariya\n"
     ]
    }
   ],
   "source": [
    "first_name = \"Durgesh\"\n",
    "last_name = \"Samariya\"\n",
    "\n",
    "# added tab space between first and last name\n",
    "full_name1 = first_name + \"\\t\"+ last_name\n",
    "\n",
    "print(full_name1)\n",
    "\n",
    "# added new line between first and last name\n",
    "full_name2 = first_name + \"\\n\" + last_name\n",
    "\n",
    "print(full_name2)\n"
   ]
  },
  {
   "cell_type": "markdown",
   "metadata": {
    "papermill": {
     "duration": 0.007602,
     "end_time": "2020-08-15T03:48:51.963522",
     "exception": false,
     "start_time": "2020-08-15T03:48:51.955920",
     "status": "completed"
    },
    "tags": []
   },
   "source": [
    "### Remove (Strip) white space from string\n",
    "In python we can remove white space using `strip()`, `rstrip()` and `lstrip()`.  Using `strip()` we can remove white space from left and right side of the string. If you want to remove white space from left and right then we have to use `lstrip()` and `rstsip()` respectively. "
   ]
  },
  {
   "cell_type": "code",
   "execution_count": 9,
   "metadata": {
    "execution": {
     "iopub.execute_input": "2020-08-15T03:48:51.984953Z",
     "iopub.status.busy": "2020-08-15T03:48:51.984347Z",
     "iopub.status.idle": "2020-08-15T03:48:51.987741Z",
     "shell.execute_reply": "2020-08-15T03:48:51.988403Z"
    },
    "papermill": {
     "duration": 0.016965,
     "end_time": "2020-08-15T03:48:51.988594",
     "exception": false,
     "start_time": "2020-08-15T03:48:51.971629",
     "status": "completed"
    },
    "tags": []
   },
   "outputs": [
    {
     "name": "stdout",
     "output_type": "stream",
     "text": [
      "This string contains white space.\n",
      "This string contains white space. \n",
      " This string contains white space.\n"
     ]
    }
   ],
   "source": [
    "s = ' This string contains white space. '\n",
    "\n",
    "print(s.strip())\n",
    "print(s.lstrip())\n",
    "print(s.rstrip())"
   ]
  },
  {
   "cell_type": "markdown",
   "metadata": {
    "papermill": {
     "duration": 0.007856,
     "end_time": "2020-08-15T03:48:52.005233",
     "exception": false,
     "start_time": "2020-08-15T03:48:51.997377",
     "status": "completed"
    },
    "tags": []
   },
   "source": [
    "### Length of the String\n",
    "In python, `len()` function returns the number of character in the string. Let's have a look."
   ]
  },
  {
   "cell_type": "code",
   "execution_count": 10,
   "metadata": {
    "execution": {
     "iopub.execute_input": "2020-08-15T03:48:52.026379Z",
     "iopub.status.busy": "2020-08-15T03:48:52.025651Z",
     "iopub.status.idle": "2020-08-15T03:48:52.029048Z",
     "shell.execute_reply": "2020-08-15T03:48:52.029543Z"
    },
    "papermill": {
     "duration": 0.016482,
     "end_time": "2020-08-15T03:48:52.029681",
     "exception": false,
     "start_time": "2020-08-15T03:48:52.013199",
     "status": "completed"
    },
    "tags": []
   },
   "outputs": [
    {
     "name": "stdout",
     "output_type": "stream",
     "text": [
      "Length of string is  14\n"
     ]
    }
   ],
   "source": [
    "s = \" Hello World !\"\n",
    "print(\"Length of string is \",len(s)) "
   ]
  },
  {
   "cell_type": "markdown",
   "metadata": {
    "papermill": {
     "duration": 0.007894,
     "end_time": "2020-08-15T03:48:52.045768",
     "exception": false,
     "start_time": "2020-08-15T03:48:52.037874",
     "status": "completed"
    },
    "tags": []
   },
   "source": [
    "## Integers\n",
    "Integers are used to store whole numbers.  Let's have a look at how python manage integers and different operations can be performed on integers."
   ]
  },
  {
   "cell_type": "code",
   "execution_count": 11,
   "metadata": {
    "execution": {
     "iopub.execute_input": "2020-08-15T03:48:52.069558Z",
     "iopub.status.busy": "2020-08-15T03:48:52.068848Z",
     "iopub.status.idle": "2020-08-15T03:48:52.073115Z",
     "shell.execute_reply": "2020-08-15T03:48:52.072407Z"
    },
    "papermill": {
     "duration": 0.019317,
     "end_time": "2020-08-15T03:48:52.073265",
     "exception": false,
     "start_time": "2020-08-15T03:48:52.053948",
     "status": "completed"
    },
    "tags": []
   },
   "outputs": [
    {
     "name": "stdout",
     "output_type": "stream",
     "text": [
      "Addition is :  5\n",
      "Subtraction is :  -1\n",
      "Multiplication is :  6\n",
      "Division is :  0.6666666666666666\n"
     ]
    }
   ],
   "source": [
    "# integers\n",
    "a = 2\n",
    "b = 3\n",
    "\n",
    "# add a and b\n",
    "c = a + b\n",
    "print(\"Addition is : \" , c)\n",
    "\n",
    "# subtract b from a\n",
    "d = a - b\n",
    "print(\"Subtraction is : \" , d)\n",
    "\n",
    "# multiplication \n",
    "e = a * b\n",
    "print(\"Multiplication is : \" , e)\n",
    "\n",
    "# divide a from b\n",
    "f = a / b\n",
    "print(\"Division is : \" , f)"
   ]
  },
  {
   "cell_type": "markdown",
   "metadata": {
    "papermill": {
     "duration": 0.008063,
     "end_time": "2020-08-15T03:48:52.090600",
     "exception": false,
     "start_time": "2020-08-15T03:48:52.082537",
     "status": "completed"
    },
    "tags": []
   },
   "source": [
    "## Floats\n",
    "Python consider any number with decimal points as a float. In python, we can perform similar operations that we performed with integers. Let's have a look at it."
   ]
  },
  {
   "cell_type": "code",
   "execution_count": 12,
   "metadata": {
    "execution": {
     "iopub.execute_input": "2020-08-15T03:48:52.114648Z",
     "iopub.status.busy": "2020-08-15T03:48:52.113945Z",
     "iopub.status.idle": "2020-08-15T03:48:52.118219Z",
     "shell.execute_reply": "2020-08-15T03:48:52.117682Z"
    },
    "papermill": {
     "duration": 0.019377,
     "end_time": "2020-08-15T03:48:52.118332",
     "exception": false,
     "start_time": "2020-08-15T03:48:52.098955",
     "status": "completed"
    },
    "tags": []
   },
   "outputs": [
    {
     "name": "stdout",
     "output_type": "stream",
     "text": [
      "Addition is :  2.0\n",
      "Subtraction is :  1.0\n",
      "Multiplication is :  0.75\n",
      "Division is :  3.0\n"
     ]
    }
   ],
   "source": [
    "# floats\n",
    "a = 1.5\n",
    "b = 0.5\n",
    "\n",
    "# add a and b\n",
    "c = a + b\n",
    "print(\"Addition is : \", c)\n",
    "\n",
    "# subtract b from a\n",
    "d = a - b\n",
    "print(\"Subtraction is : \", d)\n",
    "\n",
    "# multiplication \n",
    "e = a * b\n",
    "print(\"Multiplication is : \", e)\n",
    "\n",
    "# divide a from b\n",
    "f = a / b\n",
    "print(\"Division is : \", f)\n"
   ]
  },
  {
   "cell_type": "markdown",
   "metadata": {
    "papermill": {
     "duration": 0.008189,
     "end_time": "2020-08-15T03:48:52.134969",
     "exception": false,
     "start_time": "2020-08-15T03:48:52.126780",
     "status": "completed"
    },
    "tags": []
   },
   "source": [
    "## Tip : Avoid errors with `str()` function\n",
    "Normally, when we are making personalised message we forget about type of variable and that leads to error. Like error shown in below cell.\n",
    "\n",
    "PS. Below cell will return error. I left that error intensionally to show how to avoid this type og errors. "
   ]
  },
  {
   "cell_type": "code",
   "execution_count": 13,
   "metadata": {
    "execution": {
     "iopub.execute_input": "2020-08-15T03:48:52.156818Z",
     "iopub.status.busy": "2020-08-15T03:48:52.156218Z",
     "iopub.status.idle": "2020-08-15T03:48:52.184068Z",
     "shell.execute_reply": "2020-08-15T03:48:52.183489Z"
    },
    "papermill": {
     "duration": 0.040955,
     "end_time": "2020-08-15T03:48:52.184215",
     "exception": false,
     "start_time": "2020-08-15T03:48:52.143260",
     "status": "completed"
    },
    "tags": []
   },
   "outputs": [
    {
     "ename": "TypeError",
     "evalue": "can only concatenate str (not \"int\") to str",
     "output_type": "error",
     "traceback": [
      "\u001b[0;31m---------------------------------------------------------------------------\u001b[0m",
      "\u001b[0;31mTypeError\u001b[0m                                 Traceback (most recent call last)",
      "\u001b[0;32m<ipython-input-13-0ed96354f0d3>\u001b[0m in \u001b[0;36m<module>\u001b[0;34m\u001b[0m\n\u001b[1;32m      3\u001b[0m \u001b[0;34m\u001b[0m\u001b[0m\n\u001b[1;32m      4\u001b[0m \u001b[0;31m# following line returns error. Check in your console.\u001b[0m\u001b[0;34m\u001b[0m\u001b[0;34m\u001b[0m\u001b[0;34m\u001b[0m\u001b[0m\n\u001b[0;32m----> 5\u001b[0;31m \u001b[0mmessage\u001b[0m \u001b[0;34m=\u001b[0m \u001b[0;34m\"Sum of \"\u001b[0m \u001b[0;34m+\u001b[0m \u001b[0ma\u001b[0m \u001b[0;34m+\u001b[0m \u001b[0;34m\" and \"\u001b[0m \u001b[0;34m+\u001b[0m \u001b[0mb\u001b[0m \u001b[0;34m+\u001b[0m \u001b[0;34m\" is \"\u001b[0m \u001b[0;34m+\u001b[0m \u001b[0;34m(\u001b[0m\u001b[0ma\u001b[0m\u001b[0;34m+\u001b[0m\u001b[0mb\u001b[0m\u001b[0;34m)\u001b[0m \u001b[0;34m+\u001b[0m \u001b[0;34m\".\"\u001b[0m\u001b[0;34m\u001b[0m\u001b[0;34m\u001b[0m\u001b[0m\n\u001b[0m\u001b[1;32m      6\u001b[0m \u001b[0mprint\u001b[0m\u001b[0;34m(\u001b[0m\u001b[0mmessage\u001b[0m\u001b[0;34m)\u001b[0m\u001b[0;34m\u001b[0m\u001b[0;34m\u001b[0m\u001b[0m\n",
      "\u001b[0;31mTypeError\u001b[0m: can only concatenate str (not \"int\") to str"
     ]
    }
   ],
   "source": [
    "# this cell will return error\n",
    "a = 2\n",
    "b = 3\n",
    "\n",
    "# following line returns error. Check in your console.\n",
    "message = \"Sum of \" + a + \" and \" + b + \" is \" + (a+b) + \".\"\n",
    "print(message)"
   ]
  },
  {
   "cell_type": "markdown",
   "metadata": {
    "papermill": {
     "duration": 0.00827,
     "end_time": "2020-08-15T03:48:52.201234",
     "exception": false,
     "start_time": "2020-08-15T03:48:52.192964",
     "status": "completed"
    },
    "tags": []
   },
   "source": [
    "Assume you want to write message that returns sum of two number."
   ]
  },
  {
   "cell_type": "code",
   "execution_count": 14,
   "metadata": {
    "execution": {
     "iopub.execute_input": "2020-08-15T03:48:52.224258Z",
     "iopub.status.busy": "2020-08-15T03:48:52.223510Z",
     "iopub.status.idle": "2020-08-15T03:48:52.226351Z",
     "shell.execute_reply": "2020-08-15T03:48:52.226978Z"
    },
    "papermill": {
     "duration": 0.017443,
     "end_time": "2020-08-15T03:48:52.227186",
     "exception": false,
     "start_time": "2020-08-15T03:48:52.209743",
     "status": "completed"
    },
    "tags": []
   },
   "outputs": [
    {
     "name": "stdout",
     "output_type": "stream",
     "text": [
      "Sum of 2 and 3 is 5.\n"
     ]
    }
   ],
   "source": [
    "# In python we need to covert each int or float when we are using them with string. To do that we have str() function.\n",
    "message = \"Sum of \" + str(a) + \" and \" + str(b) + \" is \" + str(a+b) + \".\"\n",
    "print(message)"
   ]
  },
  {
   "cell_type": "markdown",
   "metadata": {
    "papermill": {
     "duration": 0.008528,
     "end_time": "2020-08-15T03:48:52.245501",
     "exception": false,
     "start_time": "2020-08-15T03:48:52.236973",
     "status": "completed"
    },
    "tags": []
   },
   "source": [
    "## List\n",
    "A list is collection of items which can be change/ modify at any point of time. You can create list that contains the string, float, integer and boolean. In python, square brackets ([]) represents lists. Let's have a look at how to create list that contains same data types."
   ]
  },
  {
   "cell_type": "code",
   "execution_count": 15,
   "metadata": {
    "execution": {
     "iopub.execute_input": "2020-08-15T03:48:52.268370Z",
     "iopub.status.busy": "2020-08-15T03:48:52.267510Z",
     "iopub.status.idle": "2020-08-15T03:48:52.270621Z",
     "shell.execute_reply": "2020-08-15T03:48:52.271133Z"
    },
    "papermill": {
     "duration": 0.016986,
     "end_time": "2020-08-15T03:48:52.271281",
     "exception": false,
     "start_time": "2020-08-15T03:48:52.254295",
     "status": "completed"
    },
    "tags": []
   },
   "outputs": [
    {
     "name": "stdout",
     "output_type": "stream",
     "text": [
      "[2, 4, 6, 8, 10]\n"
     ]
    }
   ],
   "source": [
    "# list that contains even numbers.\n",
    "even = [2, 4, 6, 8, 10]\n",
    "print(even)"
   ]
  },
  {
   "cell_type": "markdown",
   "metadata": {
    "papermill": {
     "duration": 0.008676,
     "end_time": "2020-08-15T03:48:52.288775",
     "exception": false,
     "start_time": "2020-08-15T03:48:52.280099",
     "status": "completed"
    },
    "tags": []
   },
   "source": [
    "As I said, in list we can store multiple data type values. Have a look."
   ]
  },
  {
   "cell_type": "code",
   "execution_count": 16,
   "metadata": {
    "execution": {
     "iopub.execute_input": "2020-08-15T03:48:52.312132Z",
     "iopub.status.busy": "2020-08-15T03:48:52.311301Z",
     "iopub.status.idle": "2020-08-15T03:48:52.315453Z",
     "shell.execute_reply": "2020-08-15T03:48:52.314802Z"
    },
    "papermill": {
     "duration": 0.018065,
     "end_time": "2020-08-15T03:48:52.315597",
     "exception": false,
     "start_time": "2020-08-15T03:48:52.297532",
     "status": "completed"
    },
    "tags": []
   },
   "outputs": [
    {
     "name": "stdout",
     "output_type": "stream",
     "text": [
      "['string', 1.25, 2]\n"
     ]
    }
   ],
   "source": [
    "# create list that contains one string, float and integer values.  \n",
    "list = ['string', 1.25, 2]\n",
    "print(list)\n"
   ]
  },
  {
   "cell_type": "markdown",
   "metadata": {
    "papermill": {
     "duration": 0.008755,
     "end_time": "2020-08-15T03:48:52.333697",
     "exception": false,
     "start_time": "2020-08-15T03:48:52.324942",
     "status": "completed"
    },
    "tags": []
   },
   "source": [
    "As array in most of the programming language, list index starts from 0, which means to access first element we need to use index 0. Apart from that python have special index -1, which is index of last element. Have a look."
   ]
  },
  {
   "cell_type": "code",
   "execution_count": 17,
   "metadata": {
    "execution": {
     "iopub.execute_input": "2020-08-15T03:48:52.358657Z",
     "iopub.status.busy": "2020-08-15T03:48:52.358007Z",
     "iopub.status.idle": "2020-08-15T03:48:52.360887Z",
     "shell.execute_reply": "2020-08-15T03:48:52.361543Z"
    },
    "papermill": {
     "duration": 0.019138,
     "end_time": "2020-08-15T03:48:52.361726",
     "exception": false,
     "start_time": "2020-08-15T03:48:52.342588",
     "status": "completed"
    },
    "tags": []
   },
   "outputs": [
    {
     "name": "stdout",
     "output_type": "stream",
     "text": [
      "1\n",
      "3\n",
      "5\n",
      "4\n"
     ]
    }
   ],
   "source": [
    "list = [1, 2, 3, 4, 5]\n",
    "\n",
    "# print value at index 0\n",
    "print(list[0])\n",
    "\n",
    "# print value at index 2\n",
    "print(list[2])\n",
    "\n",
    "# print last item from the list\n",
    "print(list[-1])\n",
    "\n",
    "# similarly we can access second last item from list using -2, third item using -3 and so on\n",
    "print(list[-2])"
   ]
  },
  {
   "cell_type": "markdown",
   "metadata": {
    "papermill": {
     "duration": 0.008593,
     "end_time": "2020-08-15T03:48:52.380104",
     "exception": false,
     "start_time": "2020-08-15T03:48:52.371511",
     "status": "completed"
    },
    "tags": []
   },
   "source": [
    "## Basic List Operation\n",
    "Like other data types we can perform some operations on list. Have look.\n",
    "### Modifying, Adding, and Removing items from a list"
   ]
  },
  {
   "cell_type": "code",
   "execution_count": 18,
   "metadata": {
    "execution": {
     "iopub.execute_input": "2020-08-15T03:48:52.405854Z",
     "iopub.status.busy": "2020-08-15T03:48:52.404889Z",
     "iopub.status.idle": "2020-08-15T03:48:52.408314Z",
     "shell.execute_reply": "2020-08-15T03:48:52.408891Z"
    },
    "papermill": {
     "duration": 0.020105,
     "end_time": "2020-08-15T03:48:52.409033",
     "exception": false,
     "start_time": "2020-08-15T03:48:52.388928",
     "status": "completed"
    },
    "tags": []
   },
   "outputs": [
    {
     "name": "stdout",
     "output_type": "stream",
     "text": [
      "[2, 4, 6, 8, 10]\n",
      "[2, 4, 6, 8, 10, 12]\n",
      "[0, 2, 4, 6, 8, 10, 12]\n",
      "[2, 4, 6, 8, 10, 12]\n",
      "[2, 4, 6, 8, 10]\n",
      "[2, 4, 6, 10]\n"
     ]
    }
   ],
   "source": [
    "list = [2, 4, 6, 8, 10]\n",
    "print(list)\n",
    "\n",
    "# adding item in list\n",
    "\n",
    "list.append(12)\n",
    "print(list)\n",
    "\n",
    "# inset item in list\n",
    "# we are going to use insert(index, item) method.\n",
    "list.insert(0, 0)\n",
    "print(list)\n",
    "\n",
    "# removing items from list\n",
    "\n",
    "del list[0]\n",
    "print(list)\n",
    "\n",
    "# removing last element from the list using pop() method\n",
    "list.pop()\n",
    "print(list)\n",
    "\n",
    "# removing item by value\n",
    "list.remove(8)\n",
    "print(list)"
   ]
  },
  {
   "cell_type": "markdown",
   "metadata": {
    "papermill": {
     "duration": 0.008698,
     "end_time": "2020-08-15T03:48:52.426916",
     "exception": false,
     "start_time": "2020-08-15T03:48:52.418218",
     "status": "completed"
    },
    "tags": []
   },
   "source": [
    "## Organising list\n",
    "In some projects we required to sort list in ascending or depending order. We can sort list in python using `sort()` function. Have a look.\n"
   ]
  },
  {
   "cell_type": "code",
   "execution_count": 19,
   "metadata": {
    "execution": {
     "iopub.execute_input": "2020-08-15T03:48:52.451013Z",
     "iopub.status.busy": "2020-08-15T03:48:52.450139Z",
     "iopub.status.idle": "2020-08-15T03:48:52.453712Z",
     "shell.execute_reply": "2020-08-15T03:48:52.453092Z"
    },
    "papermill": {
     "duration": 0.018021,
     "end_time": "2020-08-15T03:48:52.453822",
     "exception": false,
     "start_time": "2020-08-15T03:48:52.435801",
     "status": "completed"
    },
    "tags": []
   },
   "outputs": [
    {
     "name": "stdout",
     "output_type": "stream",
     "text": [
      "['java', 'css', 'python', 'c', 'r']\n",
      "['c', 'css', 'java', 'python', 'r']\n",
      "['r', 'python', 'java', 'css', 'c']\n"
     ]
    }
   ],
   "source": [
    "programming_languages = ['java', 'css', 'python', 'c', 'r']\n",
    "print(programming_languages)\n",
    "\n",
    "# sort in ascending order\n",
    "programming_languages.sort()\n",
    "print(programming_languages)\n",
    "\n",
    "# sort in descending order\n",
    "programming_languages.sort(reverse=True)\n",
    "print(programming_languages)\n"
   ]
  },
  {
   "cell_type": "markdown",
   "metadata": {
    "papermill": {
     "duration": 0.008987,
     "end_time": "2020-08-15T03:48:52.471792",
     "exception": false,
     "start_time": "2020-08-15T03:48:52.462805",
     "status": "completed"
    },
    "tags": []
   },
   "source": [
    "## Length of a list\n",
    "Like string you can find the length of a list using the `len()` method. Have a look."
   ]
  },
  {
   "cell_type": "code",
   "execution_count": 20,
   "metadata": {
    "execution": {
     "iopub.execute_input": "2020-08-15T03:48:52.495777Z",
     "iopub.status.busy": "2020-08-15T03:48:52.494985Z",
     "iopub.status.idle": "2020-08-15T03:48:52.498327Z",
     "shell.execute_reply": "2020-08-15T03:48:52.497841Z"
    },
    "papermill": {
     "duration": 0.017635,
     "end_time": "2020-08-15T03:48:52.498441",
     "exception": false,
     "start_time": "2020-08-15T03:48:52.480806",
     "status": "completed"
    },
    "tags": []
   },
   "outputs": [
    {
     "name": "stdout",
     "output_type": "stream",
     "text": [
      "10\n"
     ]
    }
   ],
   "source": [
    "list = [1, 2, 3, 4, 5, 6, 7, 8, 9, 10]\n",
    "print(len(list))"
   ]
  },
  {
   "cell_type": "markdown",
   "metadata": {
    "papermill": {
     "duration": 0.008788,
     "end_time": "2020-08-15T03:48:52.516475",
     "exception": false,
     "start_time": "2020-08-15T03:48:52.507687",
     "status": "completed"
    },
    "tags": []
   },
   "source": [
    "Today we learned Basics of python from Python Crash Course book. My goal for this 100 Days of Machine Learning Challenge is to learn machine learning form scratch and help others who want to start their journey in machine learning. Many concepts are known to me but I am starting from scratch to help beginners of Machine Learning comunity and revise concepts.\n",
    "\n",
    "This is what I learned today as a Part of my 100 Days machine learning challenge.\n",
    "\n",
    "Thanks for reading.\n"
   ]
  }
 ],
 "metadata": {
  "kernelspec": {
   "display_name": "Python 3",
   "language": "python",
   "name": "python3"
  },
  "language_info": {
   "codemirror_mode": {
    "name": "ipython",
    "version": 3
   },
   "file_extension": ".py",
   "mimetype": "text/x-python",
   "name": "python",
   "nbconvert_exporter": "python",
   "pygments_lexer": "ipython3",
   "version": "3.8.4"
  },
  "latex_envs": {
   "LaTeX_envs_menu_present": true,
   "autoclose": false,
   "autocomplete": true,
   "bibliofile": "biblio.bib",
   "cite_by": "apalike",
   "current_citInitial": 1,
   "eqLabelWithNumbers": true,
   "eqNumInitial": 1,
   "hotkeys": {
    "equation": "Ctrl-E",
    "itemize": "Ctrl-I"
   },
   "labels_anchors": false,
   "latex_user_defs": false,
   "report_style_numbering": false,
   "user_envs_cfg": false
  },
  "papermill": {
   "duration": 5.596009,
   "end_time": "2020-08-15T03:48:52.652171",
   "environment_variables": {},
   "exception": null,
   "input_path": "__notebook__.ipynb",
   "output_path": "__notebook__.ipynb",
   "parameters": {},
   "start_time": "2020-08-15T03:48:47.056162",
   "version": "2.1.0"
  },
  "toc": {
   "base_numbering": 1,
   "nav_menu": {},
   "number_sections": true,
   "sideBar": true,
   "skip_h1_title": false,
   "title_cell": "Table of Contents",
   "title_sidebar": "Contents",
   "toc_cell": false,
   "toc_position": {},
   "toc_section_display": true,
   "toc_window_display": false
  },
  "varInspector": {
   "cols": {
    "lenName": 16,
    "lenType": 16,
    "lenVar": 40
   },
   "kernels_config": {
    "python": {
     "delete_cmd_postfix": "",
     "delete_cmd_prefix": "del ",
     "library": "var_list.py",
     "varRefreshCmd": "print(var_dic_list())"
    },
    "r": {
     "delete_cmd_postfix": ") ",
     "delete_cmd_prefix": "rm(",
     "library": "var_list.r",
     "varRefreshCmd": "cat(var_dic_list()) "
    }
   },
   "types_to_exclude": [
    "module",
    "function",
    "builtin_function_or_method",
    "instance",
    "_Feature"
   ],
   "window_display": false
  }
 },
 "nbformat": 4,
 "nbformat_minor": 4
}
