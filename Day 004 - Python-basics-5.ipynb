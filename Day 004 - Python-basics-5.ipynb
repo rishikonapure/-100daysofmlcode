{
 "cells": [
  {
   "cell_type": "markdown",
   "metadata": {},
   "source": [
    "# Day 4 of 100 Days of Machine Learning"
   ]
  },
  {
   "cell_type": "markdown",
   "metadata": {},
   "source": [
    "# Python Basics — 5: Files and Exceptions"
   ]
  },
  {
   "cell_type": "markdown",
   "metadata": {},
   "source": [
    "## Content\n",
    "- Reading text file\n",
    "- Reading file line by line\n",
    "- Creating a list from lines of data\n",
    "- Different modes\n",
    "- Append text\n",
    "- Exceptions"
   ]
  },
  {
   "cell_type": "markdown",
   "metadata": {},
   "source": [
    "## Reading text file"
   ]
  },
  {
   "cell_type": "code",
   "execution_count": 2,
   "metadata": {
    "ExecuteTime": {
     "end_time": "2020-08-15T16:44:05.323480Z",
     "start_time": "2020-08-15T16:44:05.314507Z"
    }
   },
   "outputs": [
    {
     "name": "stdout",
     "output_type": "stream",
     "text": [
      "Python\n",
      "Java\n",
      "R\n",
      "HTML\n"
     ]
    }
   ],
   "source": [
    "with open('../resources/data/programming_languages.txt') as content:\n",
    "    programming_language = content.read()\n",
    "    print(programming_language)\n",
    "    \n",
    "# output\n",
    "# Python\n",
    "# Java\n",
    "# R\n",
    "# HTML"
   ]
  },
  {
   "cell_type": "markdown",
   "metadata": {},
   "source": [
    "## Reading file line by line"
   ]
  },
  {
   "cell_type": "code",
   "execution_count": 3,
   "metadata": {
    "ExecuteTime": {
     "end_time": "2020-08-15T16:44:34.931251Z",
     "start_time": "2020-08-15T16:44:34.918674Z"
    }
   },
   "outputs": [
    {
     "name": "stdout",
     "output_type": "stream",
     "text": [
      "Python\n",
      "\n",
      "Java\n",
      "\n",
      "R\n",
      "\n",
      "HTML\n"
     ]
    }
   ],
   "source": [
    "with open('../resources/data/programming_languages.txt') as filecontent:\n",
    "    for line in filecontent:\n",
    "        print(line)"
   ]
  },
  {
   "cell_type": "markdown",
   "metadata": {
    "ExecuteTime": {
     "end_time": "2020-08-15T16:44:41.645360Z",
     "start_time": "2020-08-15T16:44:41.636719Z"
    }
   },
   "source": [
    "## Creating a list from lines of data"
   ]
  },
  {
   "cell_type": "code",
   "execution_count": 5,
   "metadata": {
    "ExecuteTime": {
     "end_time": "2020-08-15T16:44:58.607915Z",
     "start_time": "2020-08-15T16:44:58.580882Z"
    }
   },
   "outputs": [
    {
     "name": "stdout",
     "output_type": "stream",
     "text": [
      "Python\n",
      "\n",
      "Java\n",
      "\n",
      "R\n",
      "\n",
      "HTML\n"
     ]
    }
   ],
   "source": [
    "with open('../resources/data/programming_languages.txt') as filecontent:\n",
    "    lines = filecontent.readlines()\n",
    "    \n",
    "for line in lines:\n",
    "    print(line)\n",
    "\n",
    "# output\n",
    "# Python\n",
    "\n",
    "# Java\n",
    "\n",
    "# R\n",
    "\n",
    "# HTML"
   ]
  },
  {
   "cell_type": "code",
   "execution_count": 6,
   "metadata": {
    "ExecuteTime": {
     "end_time": "2020-08-15T16:45:13.097512Z",
     "start_time": "2020-08-15T16:45:13.074784Z"
    }
   },
   "outputs": [],
   "source": [
    "# this operation is not possible in kaggle \n",
    "with open('../resources/data/cars.txt', 'w') as file_content:\n",
    "    file_content.write('Audi\\n')\n",
    "    file_content.write('BMW\\n')\n",
    "    file_content.write('Toyota')"
   ]
  },
  {
   "cell_type": "markdown",
   "metadata": {},
   "source": [
    "## Different modes\n",
    "‘r’ — Read mode\n",
    "This mode allows you to read the file\n",
    "\n",
    "‘w’ — Write mode\n",
    "This mode will enable you to write a file; write mode is preferred when the file is empty because if you use it with a file that has some content, then old content will be erased, and new content will be written.\n",
    "\n",
    "‘a’ — append mode\n",
    "This mode allows read and write.\n",
    "\n",
    "‘r+’ — Read and Write mode\n",
    "This mode also allows us to read and write."
   ]
  },
  {
   "cell_type": "markdown",
   "metadata": {},
   "source": [
    "## Append text"
   ]
  },
  {
   "cell_type": "code",
   "execution_count": 7,
   "metadata": {
    "ExecuteTime": {
     "end_time": "2020-08-15T16:46:06.396057Z",
     "start_time": "2020-08-15T16:46:06.380209Z"
    }
   },
   "outputs": [
    {
     "name": "stdout",
     "output_type": "stream",
     "text": [
      "Python\n",
      "Java\n",
      "R\n",
      "HTMLCSS\n",
      "Ruby\n",
      "\n"
     ]
    }
   ],
   "source": [
    "# this is also not possible in kaggle as kaggle is only read only system\n",
    "with open('../resources/data/programming_languages.txt', 'a') as file_content:\n",
    "    file_content.write('CSS\\n')\n",
    "    file_content.write('Ruby\\n')\n",
    "\n",
    "with open('../resources/data/programming_languages.txt') as content:\n",
    "    programming_language = content.read()\n",
    "    print(programming_language)\n",
    "    \n",
    "# output\n",
    "# Python\n",
    "# Java\n",
    "# R\n",
    "# HTML\n",
    "# CSS\n",
    "# Ruby"
   ]
  },
  {
   "cell_type": "markdown",
   "metadata": {},
   "source": [
    "## Exceptions"
   ]
  },
  {
   "cell_type": "code",
   "execution_count": 8,
   "metadata": {
    "ExecuteTime": {
     "end_time": "2020-08-15T16:46:15.463893Z",
     "start_time": "2020-08-15T16:46:15.416827Z"
    }
   },
   "outputs": [
    {
     "ename": "ZeroDivisionError",
     "evalue": "division by zero",
     "output_type": "error",
     "traceback": [
      "\u001b[0;31m---------------------------------------------------------------------------\u001b[0m",
      "\u001b[0;31mZeroDivisionError\u001b[0m                         Traceback (most recent call last)",
      "\u001b[0;32m<ipython-input-8-dccf7eaee8e0>\u001b[0m in \u001b[0;36m<module>\u001b[0;34m\u001b[0m\n\u001b[1;32m      2\u001b[0m \u001b[0mb\u001b[0m \u001b[0;34m=\u001b[0m \u001b[0;36m0\u001b[0m\u001b[0;34m\u001b[0m\u001b[0;34m\u001b[0m\u001b[0m\n\u001b[1;32m      3\u001b[0m \u001b[0;34m\u001b[0m\u001b[0m\n\u001b[0;32m----> 4\u001b[0;31m \u001b[0mprint\u001b[0m\u001b[0;34m(\u001b[0m\u001b[0;36m10\u001b[0m\u001b[0;34m/\u001b[0m\u001b[0;36m0\u001b[0m\u001b[0;34m)\u001b[0m\u001b[0;34m\u001b[0m\u001b[0;34m\u001b[0m\u001b[0m\n\u001b[0m\u001b[1;32m      5\u001b[0m \u001b[0;34m\u001b[0m\u001b[0m\n\u001b[1;32m      6\u001b[0m \u001b[0;31m# Traceback (most recent call last):\u001b[0m\u001b[0;34m\u001b[0m\u001b[0;34m\u001b[0m\u001b[0;34m\u001b[0m\u001b[0m\n",
      "\u001b[0;31mZeroDivisionError\u001b[0m: division by zero"
     ]
    }
   ],
   "source": [
    "a = 10\n",
    "b = 0\n",
    "\n",
    "print(10/0)\n",
    "\n",
    "# Traceback (most recent call last):\n",
    "#  File \"demo.py\", line 1, in <module>\n",
    "#    print(10/0)\n",
    "# ZeroDivisionError: division by zero"
   ]
  },
  {
   "cell_type": "code",
   "execution_count": 9,
   "metadata": {
    "ExecuteTime": {
     "end_time": "2020-08-15T16:46:20.151209Z",
     "start_time": "2020-08-15T16:46:20.143745Z"
    }
   },
   "outputs": [
    {
     "name": "stdout",
     "output_type": "stream",
     "text": [
      "You can't divide number by 0.\n"
     ]
    }
   ],
   "source": [
    "a = 10\n",
    "b = 0\n",
    "\n",
    "try:\n",
    "  print(a/b)\n",
    "except ZeroDivisionError:\n",
    "  print(\"You can't divide number by 0.\")\n",
    "  \n",
    "# output\n",
    "# You can't divide number by 0."
   ]
  },
  {
   "cell_type": "markdown",
   "metadata": {},
   "source": [
    "Today we learned the Basics of python. Today I have finished all basic concepts of python. I will practise all this concepts for few days and then I will move to data science python libraries.\n",
    "My goal for this 100 Days of Machine Learning Challenge is to learn machine learning from scratch and help others who want to start their journey in machine learning. Many concepts are known to me, but I am starting from scratch to help beginners of the Machine Learning community and revise concepts.\n",
    "\n",
    "\n",
    "Thanks for Reading!"
   ]
  },
  {
   "cell_type": "code",
   "execution_count": null,
   "metadata": {},
   "outputs": [],
   "source": []
  }
 ],
 "metadata": {
  "kernelspec": {
   "display_name": "Python 3",
   "language": "python",
   "name": "python3"
  },
  "language_info": {
   "codemirror_mode": {
    "name": "ipython",
    "version": 3
   },
   "file_extension": ".py",
   "mimetype": "text/x-python",
   "name": "python",
   "nbconvert_exporter": "python",
   "pygments_lexer": "ipython3",
   "version": "3.7.5"
  },
  "latex_envs": {
   "LaTeX_envs_menu_present": true,
   "autoclose": false,
   "autocomplete": true,
   "bibliofile": "biblio.bib",
   "cite_by": "apalike",
   "current_citInitial": 1,
   "eqLabelWithNumbers": true,
   "eqNumInitial": 1,
   "hotkeys": {
    "equation": "Ctrl-E",
    "itemize": "Ctrl-I"
   },
   "labels_anchors": false,
   "latex_user_defs": false,
   "report_style_numbering": false,
   "user_envs_cfg": false
  },
  "toc": {
   "base_numbering": 1,
   "nav_menu": {},
   "number_sections": true,
   "sideBar": true,
   "skip_h1_title": false,
   "title_cell": "Table of Contents",
   "title_sidebar": "Contents",
   "toc_cell": false,
   "toc_position": {},
   "toc_section_display": true,
   "toc_window_display": false
  },
  "varInspector": {
   "cols": {
    "lenName": 16,
    "lenType": 16,
    "lenVar": 40
   },
   "kernels_config": {
    "python": {
     "delete_cmd_postfix": "",
     "delete_cmd_prefix": "del ",
     "library": "var_list.py",
     "varRefreshCmd": "print(var_dic_list())"
    },
    "r": {
     "delete_cmd_postfix": ") ",
     "delete_cmd_prefix": "rm(",
     "library": "var_list.r",
     "varRefreshCmd": "cat(var_dic_list()) "
    }
   },
   "types_to_exclude": [
    "module",
    "function",
    "builtin_function_or_method",
    "instance",
    "_Feature"
   ],
   "window_display": false
  }
 },
 "nbformat": 4,
 "nbformat_minor": 4
}
